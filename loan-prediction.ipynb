{
 "cells": [
  {
   "cell_type": "code",
   "execution_count": 1,
   "id": "7a7841fb",
   "metadata": {
    "execution": {
     "iopub.execute_input": "2022-02-07T05:37:29.355020Z",
     "iopub.status.busy": "2022-02-07T05:37:29.353337Z",
     "iopub.status.idle": "2022-02-07T05:37:30.483987Z",
     "shell.execute_reply": "2022-02-07T05:37:30.483381Z",
     "shell.execute_reply.started": "2022-02-07T05:34:01.803434Z"
    },
    "papermill": {
     "duration": 1.195552,
     "end_time": "2022-02-07T05:37:30.484187",
     "exception": false,
     "start_time": "2022-02-07T05:37:29.288635",
     "status": "completed"
    },
    "tags": []
   },
   "outputs": [],
   "source": [
    "import pandas as pd\n",
    "import numpy as np\n",
    "import matplotlib.pyplot as plt\n",
    "import seaborn as ssb\n",
    "from sklearn.preprocessing import LabelEncoder"
   ]
  },
  {
   "cell_type": "markdown",
   "id": "c3c348fb",
   "metadata": {
    "papermill": {
     "duration": 0.061496,
     "end_time": "2022-02-07T05:37:30.609209",
     "exception": false,
     "start_time": "2022-02-07T05:37:30.547713",
     "status": "completed"
    },
    "tags": []
   },
   "source": [
    "loading data"
   ]
  },
  {
   "cell_type": "code",
   "execution_count": 2,
   "id": "c1c6d2e3",
   "metadata": {
    "execution": {
     "iopub.execute_input": "2022-02-07T05:37:30.729017Z",
     "iopub.status.busy": "2022-02-07T05:37:30.728476Z",
     "iopub.status.idle": "2022-02-07T05:37:30.758744Z",
     "shell.execute_reply": "2022-02-07T05:37:30.759246Z",
     "shell.execute_reply.started": "2022-02-07T05:34:01.809788Z"
    },
    "papermill": {
     "duration": 0.09092,
     "end_time": "2022-02-07T05:37:30.759422",
     "exception": false,
     "start_time": "2022-02-07T05:37:30.668502",
     "status": "completed"
    },
    "tags": []
   },
   "outputs": [],
   "source": [
    "train=pd.read_csv('/kaggle/input/loan-prediction-problem-dataset/train_u6lujuX_CVtuZ9i.csv')"
   ]
  },
  {
   "cell_type": "code",
   "execution_count": 3,
   "id": "c0d011bb",
   "metadata": {
    "execution": {
     "iopub.execute_input": "2022-02-07T05:37:30.877377Z",
     "iopub.status.busy": "2022-02-07T05:37:30.876796Z",
     "iopub.status.idle": "2022-02-07T05:37:30.899434Z",
     "shell.execute_reply": "2022-02-07T05:37:30.900239Z",
     "shell.execute_reply.started": "2022-02-07T05:34:01.835723Z"
    },
    "papermill": {
     "duration": 0.083254,
     "end_time": "2022-02-07T05:37:30.900461",
     "exception": false,
     "start_time": "2022-02-07T05:37:30.817207",
     "status": "completed"
    },
    "tags": []
   },
   "outputs": [
    {
     "name": "stdout",
     "output_type": "stream",
     "text": [
      "<class 'pandas.core.frame.DataFrame'>\n",
      "RangeIndex: 614 entries, 0 to 613\n",
      "Data columns (total 13 columns):\n",
      " #   Column             Non-Null Count  Dtype  \n",
      "---  ------             --------------  -----  \n",
      " 0   Loan_ID            614 non-null    object \n",
      " 1   Gender             601 non-null    object \n",
      " 2   Married            611 non-null    object \n",
      " 3   Dependents         599 non-null    object \n",
      " 4   Education          614 non-null    object \n",
      " 5   Self_Employed      582 non-null    object \n",
      " 6   ApplicantIncome    614 non-null    int64  \n",
      " 7   CoapplicantIncome  614 non-null    float64\n",
      " 8   LoanAmount         592 non-null    float64\n",
      " 9   Loan_Amount_Term   600 non-null    float64\n",
      " 10  Credit_History     564 non-null    float64\n",
      " 11  Property_Area      614 non-null    object \n",
      " 12  Loan_Status        614 non-null    object \n",
      "dtypes: float64(4), int64(1), object(8)\n",
      "memory usage: 62.5+ KB\n"
     ]
    }
   ],
   "source": [
    "train.info()"
   ]
  },
  {
   "cell_type": "code",
   "execution_count": 4,
   "id": "9db3eb39",
   "metadata": {
    "execution": {
     "iopub.execute_input": "2022-02-07T05:37:31.028777Z",
     "iopub.status.busy": "2022-02-07T05:37:31.027821Z",
     "iopub.status.idle": "2022-02-07T05:37:31.052204Z",
     "shell.execute_reply": "2022-02-07T05:37:31.051727Z",
     "shell.execute_reply.started": "2022-02-07T05:34:01.849250Z"
    },
    "papermill": {
     "duration": 0.091849,
     "end_time": "2022-02-07T05:37:31.052362",
     "exception": false,
     "start_time": "2022-02-07T05:37:30.960513",
     "status": "completed"
    },
    "tags": []
   },
   "outputs": [
    {
     "data": {
      "text/html": [
       "<div>\n",
       "<style scoped>\n",
       "    .dataframe tbody tr th:only-of-type {\n",
       "        vertical-align: middle;\n",
       "    }\n",
       "\n",
       "    .dataframe tbody tr th {\n",
       "        vertical-align: top;\n",
       "    }\n",
       "\n",
       "    .dataframe thead th {\n",
       "        text-align: right;\n",
       "    }\n",
       "</style>\n",
       "<table border=\"1\" class=\"dataframe\">\n",
       "  <thead>\n",
       "    <tr style=\"text-align: right;\">\n",
       "      <th></th>\n",
       "      <th>ApplicantIncome</th>\n",
       "      <th>CoapplicantIncome</th>\n",
       "      <th>LoanAmount</th>\n",
       "      <th>Loan_Amount_Term</th>\n",
       "      <th>Credit_History</th>\n",
       "    </tr>\n",
       "  </thead>\n",
       "  <tbody>\n",
       "    <tr>\n",
       "      <th>count</th>\n",
       "      <td>614.000000</td>\n",
       "      <td>614.000000</td>\n",
       "      <td>592.000000</td>\n",
       "      <td>600.00000</td>\n",
       "      <td>564.000000</td>\n",
       "    </tr>\n",
       "    <tr>\n",
       "      <th>mean</th>\n",
       "      <td>5403.459283</td>\n",
       "      <td>1621.245798</td>\n",
       "      <td>146.412162</td>\n",
       "      <td>342.00000</td>\n",
       "      <td>0.842199</td>\n",
       "    </tr>\n",
       "    <tr>\n",
       "      <th>std</th>\n",
       "      <td>6109.041673</td>\n",
       "      <td>2926.248369</td>\n",
       "      <td>85.587325</td>\n",
       "      <td>65.12041</td>\n",
       "      <td>0.364878</td>\n",
       "    </tr>\n",
       "    <tr>\n",
       "      <th>min</th>\n",
       "      <td>150.000000</td>\n",
       "      <td>0.000000</td>\n",
       "      <td>9.000000</td>\n",
       "      <td>12.00000</td>\n",
       "      <td>0.000000</td>\n",
       "    </tr>\n",
       "    <tr>\n",
       "      <th>25%</th>\n",
       "      <td>2877.500000</td>\n",
       "      <td>0.000000</td>\n",
       "      <td>100.000000</td>\n",
       "      <td>360.00000</td>\n",
       "      <td>1.000000</td>\n",
       "    </tr>\n",
       "    <tr>\n",
       "      <th>50%</th>\n",
       "      <td>3812.500000</td>\n",
       "      <td>1188.500000</td>\n",
       "      <td>128.000000</td>\n",
       "      <td>360.00000</td>\n",
       "      <td>1.000000</td>\n",
       "    </tr>\n",
       "    <tr>\n",
       "      <th>75%</th>\n",
       "      <td>5795.000000</td>\n",
       "      <td>2297.250000</td>\n",
       "      <td>168.000000</td>\n",
       "      <td>360.00000</td>\n",
       "      <td>1.000000</td>\n",
       "    </tr>\n",
       "    <tr>\n",
       "      <th>max</th>\n",
       "      <td>81000.000000</td>\n",
       "      <td>41667.000000</td>\n",
       "      <td>700.000000</td>\n",
       "      <td>480.00000</td>\n",
       "      <td>1.000000</td>\n",
       "    </tr>\n",
       "  </tbody>\n",
       "</table>\n",
       "</div>"
      ],
      "text/plain": [
       "       ApplicantIncome  CoapplicantIncome  LoanAmount  Loan_Amount_Term  \\\n",
       "count       614.000000         614.000000  592.000000         600.00000   \n",
       "mean       5403.459283        1621.245798  146.412162         342.00000   \n",
       "std        6109.041673        2926.248369   85.587325          65.12041   \n",
       "min         150.000000           0.000000    9.000000          12.00000   \n",
       "25%        2877.500000           0.000000  100.000000         360.00000   \n",
       "50%        3812.500000        1188.500000  128.000000         360.00000   \n",
       "75%        5795.000000        2297.250000  168.000000         360.00000   \n",
       "max       81000.000000       41667.000000  700.000000         480.00000   \n",
       "\n",
       "       Credit_History  \n",
       "count      564.000000  \n",
       "mean         0.842199  \n",
       "std          0.364878  \n",
       "min          0.000000  \n",
       "25%          1.000000  \n",
       "50%          1.000000  \n",
       "75%          1.000000  \n",
       "max          1.000000  "
      ]
     },
     "execution_count": 4,
     "metadata": {},
     "output_type": "execute_result"
    }
   ],
   "source": [
    "train.describe()"
   ]
  },
  {
   "cell_type": "markdown",
   "id": "1b1747fe",
   "metadata": {
    "papermill": {
     "duration": 0.0611,
     "end_time": "2022-02-07T05:37:31.173568",
     "exception": false,
     "start_time": "2022-02-07T05:37:31.112468",
     "status": "completed"
    },
    "tags": []
   },
   "source": [
    "As we can see in the the describe of train that in the column applicantincome,coapplicantincome and loanamount have outlier because maximum value are way greater than the general values."
   ]
  },
  {
   "cell_type": "code",
   "execution_count": 5,
   "id": "fa301712",
   "metadata": {
    "execution": {
     "iopub.execute_input": "2022-02-07T05:37:31.296474Z",
     "iopub.status.busy": "2022-02-07T05:37:31.295835Z",
     "iopub.status.idle": "2022-02-07T05:37:31.601683Z",
     "shell.execute_reply": "2022-02-07T05:37:31.602071Z",
     "shell.execute_reply.started": "2022-02-07T05:34:01.885521Z"
    },
    "papermill": {
     "duration": 0.368867,
     "end_time": "2022-02-07T05:37:31.602317",
     "exception": false,
     "start_time": "2022-02-07T05:37:31.233450",
     "status": "completed"
    },
    "tags": []
   },
   "outputs": [
    {
     "data": {
      "text/plain": [
       "<AxesSubplot:>"
      ]
     },
     "execution_count": 5,
     "metadata": {},
     "output_type": "execute_result"
    },
    {
     "data": {
      "image/png": "[encoded data removed]",
      "text/plain": [
       "<Figure size 1008x720 with 1 Axes>"
      ]
     },
     "metadata": {
      "needs_background": "light"
     },
     "output_type": "display_data"
    }
   ],
   "source": [
    "train.boxplot(figsize=(14,10))"
   ]
  },
  {
   "cell_type": "code",
   "execution_count": 6,
   "id": "f96999f4",
   "metadata": {
    "execution": {
     "iopub.execute_input": "2022-02-07T05:37:31.754553Z",
     "iopub.status.busy": "2022-02-07T05:37:31.753913Z",
     "iopub.status.idle": "2022-02-07T05:37:31.769818Z",
     "shell.execute_reply": "2022-02-07T05:37:31.770271Z",
     "shell.execute_reply.started": "2022-02-07T05:34:02.187768Z"
    },
    "papermill": {
     "duration": 0.097476,
     "end_time": "2022-02-07T05:37:31.770469",
     "exception": false,
     "start_time": "2022-02-07T05:37:31.672993",
     "status": "completed"
    },
    "tags": []
   },
   "outputs": [
    {
     "data": {
      "text/html": [
       "<div>\n",
       "<style scoped>\n",
       "    .dataframe tbody tr th:only-of-type {\n",
       "        vertical-align: middle;\n",
       "    }\n",
       "\n",
       "    .dataframe tbody tr th {\n",
       "        vertical-align: top;\n",
       "    }\n",
       "\n",
       "    .dataframe thead th {\n",
       "        text-align: right;\n",
       "    }\n",
       "</style>\n",
       "<table border=\"1\" class=\"dataframe\">\n",
       "  <thead>\n",
       "    <tr style=\"text-align: right;\">\n",
       "      <th></th>\n",
       "      <th>Loan_ID</th>\n",
       "      <th>Gender</th>\n",
       "      <th>Married</th>\n",
       "      <th>Dependents</th>\n",
       "      <th>Education</th>\n",
       "      <th>Self_Employed</th>\n",
       "      <th>ApplicantIncome</th>\n",
       "      <th>CoapplicantIncome</th>\n",
       "      <th>LoanAmount</th>\n",
       "      <th>Loan_Amount_Term</th>\n",
       "      <th>Credit_History</th>\n",
       "      <th>Property_Area</th>\n",
       "      <th>Loan_Status</th>\n",
       "    </tr>\n",
       "  </thead>\n",
       "  <tbody>\n",
       "    <tr>\n",
       "      <th>171</th>\n",
       "      <td>LP001585</td>\n",
       "      <td>NaN</td>\n",
       "      <td>Yes</td>\n",
       "      <td>3+</td>\n",
       "      <td>Graduate</td>\n",
       "      <td>No</td>\n",
       "      <td>51763</td>\n",
       "      <td>0.0</td>\n",
       "      <td>700.0</td>\n",
       "      <td>300.0</td>\n",
       "      <td>1.0</td>\n",
       "      <td>Urban</td>\n",
       "      <td>Y</td>\n",
       "    </tr>\n",
       "    <tr>\n",
       "      <th>333</th>\n",
       "      <td>LP002101</td>\n",
       "      <td>Male</td>\n",
       "      <td>Yes</td>\n",
       "      <td>0</td>\n",
       "      <td>Graduate</td>\n",
       "      <td>NaN</td>\n",
       "      <td>63337</td>\n",
       "      <td>0.0</td>\n",
       "      <td>490.0</td>\n",
       "      <td>180.0</td>\n",
       "      <td>1.0</td>\n",
       "      <td>Urban</td>\n",
       "      <td>Y</td>\n",
       "    </tr>\n",
       "    <tr>\n",
       "      <th>409</th>\n",
       "      <td>LP002317</td>\n",
       "      <td>Male</td>\n",
       "      <td>Yes</td>\n",
       "      <td>3+</td>\n",
       "      <td>Graduate</td>\n",
       "      <td>No</td>\n",
       "      <td>81000</td>\n",
       "      <td>0.0</td>\n",
       "      <td>360.0</td>\n",
       "      <td>360.0</td>\n",
       "      <td>0.0</td>\n",
       "      <td>Rural</td>\n",
       "      <td>N</td>\n",
       "    </tr>\n",
       "  </tbody>\n",
       "</table>\n",
       "</div>"
      ],
      "text/plain": [
       "      Loan_ID Gender Married Dependents Education Self_Employed  \\\n",
       "171  LP001585    NaN     Yes         3+  Graduate            No   \n",
       "333  LP002101   Male     Yes          0  Graduate           NaN   \n",
       "409  LP002317   Male     Yes         3+  Graduate            No   \n",
       "\n",
       "     ApplicantIncome  CoapplicantIncome  LoanAmount  Loan_Amount_Term  \\\n",
       "171            51763                0.0       700.0             300.0   \n",
       "333            63337                0.0       490.0             180.0   \n",
       "409            81000                0.0       360.0             360.0   \n",
       "\n",
       "     Credit_History Property_Area Loan_Status  \n",
       "171             1.0         Urban           Y  \n",
       "333             1.0         Urban           Y  \n",
       "409             0.0         Rural           N  "
      ]
     },
     "execution_count": 6,
     "metadata": {},
     "output_type": "execute_result"
    }
   ],
   "source": [
    "train[train.ApplicantIncome>=50000]\n",
    "#train.drop((drop),axis=0,inplace=True)"
   ]
  },
  {
   "cell_type": "code",
   "execution_count": 7,
   "id": "dd73bf8e",
   "metadata": {
    "execution": {
     "iopub.execute_input": "2022-02-07T05:37:31.899012Z",
     "iopub.status.busy": "2022-02-07T05:37:31.898423Z",
     "iopub.status.idle": "2022-02-07T05:37:31.913718Z",
     "shell.execute_reply": "2022-02-07T05:37:31.914255Z",
     "shell.execute_reply.started": "2022-02-07T05:34:02.208511Z"
    },
    "papermill": {
     "duration": 0.082474,
     "end_time": "2022-02-07T05:37:31.914418",
     "exception": false,
     "start_time": "2022-02-07T05:37:31.831944",
     "status": "completed"
    },
    "tags": []
   },
   "outputs": [
    {
     "data": {
      "text/html": [
       "<div>\n",
       "<style scoped>\n",
       "    .dataframe tbody tr th:only-of-type {\n",
       "        vertical-align: middle;\n",
       "    }\n",
       "\n",
       "    .dataframe tbody tr th {\n",
       "        vertical-align: top;\n",
       "    }\n",
       "\n",
       "    .dataframe thead th {\n",
       "        text-align: right;\n",
       "    }\n",
       "</style>\n",
       "<table border=\"1\" class=\"dataframe\">\n",
       "  <thead>\n",
       "    <tr style=\"text-align: right;\">\n",
       "      <th></th>\n",
       "      <th>Loan_ID</th>\n",
       "      <th>Gender</th>\n",
       "      <th>Married</th>\n",
       "      <th>Dependents</th>\n",
       "      <th>Education</th>\n",
       "      <th>Self_Employed</th>\n",
       "      <th>ApplicantIncome</th>\n",
       "      <th>CoapplicantIncome</th>\n",
       "      <th>LoanAmount</th>\n",
       "      <th>Loan_Amount_Term</th>\n",
       "      <th>Credit_History</th>\n",
       "      <th>Property_Area</th>\n",
       "      <th>Loan_Status</th>\n",
       "    </tr>\n",
       "  </thead>\n",
       "  <tbody>\n",
       "    <tr>\n",
       "      <th>402</th>\n",
       "      <td>LP002297</td>\n",
       "      <td>Male</td>\n",
       "      <td>No</td>\n",
       "      <td>0</td>\n",
       "      <td>Graduate</td>\n",
       "      <td>No</td>\n",
       "      <td>2500</td>\n",
       "      <td>20000.0</td>\n",
       "      <td>103.0</td>\n",
       "      <td>360.0</td>\n",
       "      <td>1.0</td>\n",
       "      <td>Semiurban</td>\n",
       "      <td>Y</td>\n",
       "    </tr>\n",
       "    <tr>\n",
       "      <th>417</th>\n",
       "      <td>LP002342</td>\n",
       "      <td>Male</td>\n",
       "      <td>Yes</td>\n",
       "      <td>2</td>\n",
       "      <td>Graduate</td>\n",
       "      <td>Yes</td>\n",
       "      <td>1600</td>\n",
       "      <td>20000.0</td>\n",
       "      <td>239.0</td>\n",
       "      <td>360.0</td>\n",
       "      <td>1.0</td>\n",
       "      <td>Urban</td>\n",
       "      <td>N</td>\n",
       "    </tr>\n",
       "    <tr>\n",
       "      <th>581</th>\n",
       "      <td>LP002893</td>\n",
       "      <td>Male</td>\n",
       "      <td>No</td>\n",
       "      <td>0</td>\n",
       "      <td>Graduate</td>\n",
       "      <td>No</td>\n",
       "      <td>1836</td>\n",
       "      <td>33837.0</td>\n",
       "      <td>90.0</td>\n",
       "      <td>360.0</td>\n",
       "      <td>1.0</td>\n",
       "      <td>Urban</td>\n",
       "      <td>N</td>\n",
       "    </tr>\n",
       "    <tr>\n",
       "      <th>600</th>\n",
       "      <td>LP002949</td>\n",
       "      <td>Female</td>\n",
       "      <td>No</td>\n",
       "      <td>3+</td>\n",
       "      <td>Graduate</td>\n",
       "      <td>NaN</td>\n",
       "      <td>416</td>\n",
       "      <td>41667.0</td>\n",
       "      <td>350.0</td>\n",
       "      <td>180.0</td>\n",
       "      <td>NaN</td>\n",
       "      <td>Urban</td>\n",
       "      <td>N</td>\n",
       "    </tr>\n",
       "  </tbody>\n",
       "</table>\n",
       "</div>"
      ],
      "text/plain": [
       "      Loan_ID  Gender Married Dependents Education Self_Employed  \\\n",
       "402  LP002297    Male      No          0  Graduate            No   \n",
       "417  LP002342    Male     Yes          2  Graduate           Yes   \n",
       "581  LP002893    Male      No          0  Graduate            No   \n",
       "600  LP002949  Female      No         3+  Graduate           NaN   \n",
       "\n",
       "     ApplicantIncome  CoapplicantIncome  LoanAmount  Loan_Amount_Term  \\\n",
       "402             2500            20000.0       103.0             360.0   \n",
       "417             1600            20000.0       239.0             360.0   \n",
       "581             1836            33837.0        90.0             360.0   \n",
       "600              416            41667.0       350.0             180.0   \n",
       "\n",
       "     Credit_History Property_Area Loan_Status  \n",
       "402             1.0     Semiurban           Y  \n",
       "417             1.0         Urban           N  \n",
       "581             1.0         Urban           N  \n",
       "600             NaN         Urban           N  "
      ]
     },
     "execution_count": 7,
     "metadata": {},
     "output_type": "execute_result"
    }
   ],
   "source": [
    "train[train.CoapplicantIncome>=20000]"
   ]
  },
  {
   "cell_type": "code",
   "execution_count": 8,
   "id": "d442a728",
   "metadata": {
    "execution": {
     "iopub.execute_input": "2022-02-07T05:37:32.040090Z",
     "iopub.status.busy": "2022-02-07T05:37:32.039514Z",
     "iopub.status.idle": "2022-02-07T05:37:33.283706Z",
     "shell.execute_reply": "2022-02-07T05:37:33.282777Z",
     "shell.execute_reply.started": "2022-02-07T05:34:02.229336Z"
    },
    "papermill": {
     "duration": 1.308249,
     "end_time": "2022-02-07T05:37:33.283894",
     "exception": false,
     "start_time": "2022-02-07T05:37:31.975645",
     "status": "completed"
    },
    "tags": []
   },
   "outputs": [
    {
     "data": {
      "text/plain": [
       "array([[<AxesSubplot:title={'center':'ApplicantIncome'}>,\n",
       "        <AxesSubplot:title={'center':'CoapplicantIncome'}>],\n",
       "       [<AxesSubplot:title={'center':'LoanAmount'}>,\n",
       "        <AxesSubplot:title={'center':'Loan_Amount_Term'}>],\n",
       "       [<AxesSubplot:title={'center':'Credit_History'}>, <AxesSubplot:>]],\n",
       "      dtype=object)"
      ]
     },
     "execution_count": 8,
     "metadata": {},
     "output_type": "execute_result"
    },
    {
     "data": {
      "image/png": "[encoded data removed]",
      "text/plain": [
       "<Figure size 1008x720 with 6 Axes>"
      ]
     },
     "metadata": {
      "needs_background": "light"
     },
     "output_type": "display_data"
    }
   ],
   "source": [
    "train.hist(bins=50,figsize=(14,10))"
   ]
  },
  {
   "cell_type": "code",
   "execution_count": 9,
   "id": "00a05767",
   "metadata": {
    "execution": {
     "iopub.execute_input": "2022-02-07T05:37:33.421466Z",
     "iopub.status.busy": "2022-02-07T05:37:33.417686Z",
     "iopub.status.idle": "2022-02-07T05:37:35.929231Z",
     "shell.execute_reply": "2022-02-07T05:37:35.929705Z",
     "shell.execute_reply.started": "2022-02-07T05:34:03.633261Z"
    },
    "papermill": {
     "duration": 2.581977,
     "end_time": "2022-02-07T05:37:35.929875",
     "exception": false,
     "start_time": "2022-02-07T05:37:33.347898",
     "status": "completed"
    },
    "tags": []
   },
   "outputs": [
    {
     "data": {
      "text/plain": [
       "<seaborn.axisgrid.PairGrid at 0x7f9b1b3b2590>"
      ]
     },
     "execution_count": 9,
     "metadata": {},
     "output_type": "execute_result"
    },
    {
     "data": {
      "image/png": "[encoded data removed]",
      "text/plain": [
       "<Figure size 608.625x540 with 12 Axes>"
      ]
     },
     "metadata": {
      "needs_background": "light"
     },
     "output_type": "display_data"
    }
   ],
   "source": [
    "ssb.pairplot(data=train,vars=['ApplicantIncome','CoapplicantIncome','LoanAmount'],hue='Loan_Status')"
   ]
  },
  {
   "cell_type": "code",
   "execution_count": 10,
   "id": "449503fd",
   "metadata": {
    "execution": {
     "iopub.execute_input": "2022-02-07T05:37:36.066843Z",
     "iopub.status.busy": "2022-02-07T05:37:36.066247Z",
     "iopub.status.idle": "2022-02-07T05:37:36.079105Z",
     "shell.execute_reply": "2022-02-07T05:37:36.079647Z",
     "shell.execute_reply.started": "2022-02-07T05:34:06.411053Z"
    },
    "papermill": {
     "duration": 0.084165,
     "end_time": "2022-02-07T05:37:36.079813",
     "exception": false,
     "start_time": "2022-02-07T05:37:35.995648",
     "status": "completed"
    },
    "tags": []
   },
   "outputs": [
    {
     "data": {
      "text/html": [
       "<div>\n",
       "<style scoped>\n",
       "    .dataframe tbody tr th:only-of-type {\n",
       "        vertical-align: middle;\n",
       "    }\n",
       "\n",
       "    .dataframe tbody tr th {\n",
       "        vertical-align: top;\n",
       "    }\n",
       "\n",
       "    .dataframe thead th {\n",
       "        text-align: right;\n",
       "    }\n",
       "</style>\n",
       "<table border=\"1\" class=\"dataframe\">\n",
       "  <thead>\n",
       "    <tr style=\"text-align: right;\">\n",
       "      <th></th>\n",
       "      <th>ApplicantIncome</th>\n",
       "      <th>CoapplicantIncome</th>\n",
       "      <th>LoanAmount</th>\n",
       "      <th>Loan_Amount_Term</th>\n",
       "      <th>Credit_History</th>\n",
       "      <th>Loan_Status</th>\n",
       "    </tr>\n",
       "  </thead>\n",
       "  <tbody>\n",
       "    <tr>\n",
       "      <th>ApplicantIncome</th>\n",
       "      <td>1.000000</td>\n",
       "      <td>-0.116605</td>\n",
       "      <td>0.570909</td>\n",
       "      <td>-0.045306</td>\n",
       "      <td>-0.014715</td>\n",
       "      <td>-0.004710</td>\n",
       "    </tr>\n",
       "    <tr>\n",
       "      <th>CoapplicantIncome</th>\n",
       "      <td>-0.116605</td>\n",
       "      <td>1.000000</td>\n",
       "      <td>0.188619</td>\n",
       "      <td>-0.059878</td>\n",
       "      <td>-0.002056</td>\n",
       "      <td>-0.059187</td>\n",
       "    </tr>\n",
       "    <tr>\n",
       "      <th>LoanAmount</th>\n",
       "      <td>0.570909</td>\n",
       "      <td>0.188619</td>\n",
       "      <td>1.000000</td>\n",
       "      <td>0.039447</td>\n",
       "      <td>-0.008433</td>\n",
       "      <td>-0.037318</td>\n",
       "    </tr>\n",
       "    <tr>\n",
       "      <th>Loan_Amount_Term</th>\n",
       "      <td>-0.045306</td>\n",
       "      <td>-0.059878</td>\n",
       "      <td>0.039447</td>\n",
       "      <td>1.000000</td>\n",
       "      <td>0.001470</td>\n",
       "      <td>-0.021268</td>\n",
       "    </tr>\n",
       "    <tr>\n",
       "      <th>Credit_History</th>\n",
       "      <td>-0.014715</td>\n",
       "      <td>-0.002056</td>\n",
       "      <td>-0.008433</td>\n",
       "      <td>0.001470</td>\n",
       "      <td>1.000000</td>\n",
       "      <td>0.561678</td>\n",
       "    </tr>\n",
       "    <tr>\n",
       "      <th>Loan_Status</th>\n",
       "      <td>-0.004710</td>\n",
       "      <td>-0.059187</td>\n",
       "      <td>-0.037318</td>\n",
       "      <td>-0.021268</td>\n",
       "      <td>0.561678</td>\n",
       "      <td>1.000000</td>\n",
       "    </tr>\n",
       "  </tbody>\n",
       "</table>\n",
       "</div>"
      ],
      "text/plain": [
       "                   ApplicantIncome  CoapplicantIncome  LoanAmount  \\\n",
       "ApplicantIncome           1.000000          -0.116605    0.570909   \n",
       "CoapplicantIncome        -0.116605           1.000000    0.188619   \n",
       "LoanAmount                0.570909           0.188619    1.000000   \n",
       "Loan_Amount_Term         -0.045306          -0.059878    0.039447   \n",
       "Credit_History           -0.014715          -0.002056   -0.008433   \n",
       "Loan_Status              -0.004710          -0.059187   -0.037318   \n",
       "\n",
       "                   Loan_Amount_Term  Credit_History  Loan_Status  \n",
       "ApplicantIncome           -0.045306       -0.014715    -0.004710  \n",
       "CoapplicantIncome         -0.059878       -0.002056    -0.059187  \n",
       "LoanAmount                 0.039447       -0.008433    -0.037318  \n",
       "Loan_Amount_Term           1.000000        0.001470    -0.021268  \n",
       "Credit_History             0.001470        1.000000     0.561678  \n",
       "Loan_Status               -0.021268        0.561678     1.000000  "
      ]
     },
     "execution_count": 10,
     "metadata": {},
     "output_type": "execute_result"
    }
   ],
   "source": [
    "train.Loan_Status=train.Loan_Status.map({'Y':1,'N':0})\n",
    "train.corr()"
   ]
  },
  {
   "cell_type": "markdown",
   "id": "ee6ea0e6",
   "metadata": {
    "papermill": {
     "duration": 0.067014,
     "end_time": "2022-02-07T05:37:36.212068",
     "exception": false,
     "start_time": "2022-02-07T05:37:36.145054",
     "status": "completed"
    },
    "tags": []
   },
   "source": [
    "After looking to correlation of loan status to these columns who have outliers they are not very much corelated to the loan status.That's why I don't drop the outliers because we don't have enough rows."
   ]
  },
  {
   "cell_type": "code",
   "execution_count": 11,
   "id": "9d447b20",
   "metadata": {
    "execution": {
     "iopub.execute_input": "2022-02-07T05:37:36.344312Z",
     "iopub.status.busy": "2022-02-07T05:37:36.343746Z",
     "iopub.status.idle": "2022-02-07T05:37:36.363620Z",
     "shell.execute_reply": "2022-02-07T05:37:36.364217Z",
     "shell.execute_reply.started": "2022-02-07T05:34:06.432633Z"
    },
    "papermill": {
     "duration": 0.087628,
     "end_time": "2022-02-07T05:37:36.364383",
     "exception": false,
     "start_time": "2022-02-07T05:37:36.276755",
     "status": "completed"
    },
    "tags": []
   },
   "outputs": [
    {
     "data": {
      "text/html": [
       "<div>\n",
       "<style scoped>\n",
       "    .dataframe tbody tr th:only-of-type {\n",
       "        vertical-align: middle;\n",
       "    }\n",
       "\n",
       "    .dataframe tbody tr th {\n",
       "        vertical-align: top;\n",
       "    }\n",
       "\n",
       "    .dataframe thead th {\n",
       "        text-align: right;\n",
       "    }\n",
       "</style>\n",
       "<table border=\"1\" class=\"dataframe\">\n",
       "  <thead>\n",
       "    <tr style=\"text-align: right;\">\n",
       "      <th></th>\n",
       "      <th>Loan_ID</th>\n",
       "      <th>Gender</th>\n",
       "      <th>Married</th>\n",
       "      <th>Dependents</th>\n",
       "      <th>Education</th>\n",
       "      <th>Self_Employed</th>\n",
       "      <th>ApplicantIncome</th>\n",
       "      <th>CoapplicantIncome</th>\n",
       "      <th>LoanAmount</th>\n",
       "      <th>Loan_Amount_Term</th>\n",
       "      <th>Credit_History</th>\n",
       "      <th>Property_Area</th>\n",
       "      <th>Loan_Status</th>\n",
       "    </tr>\n",
       "  </thead>\n",
       "  <tbody>\n",
       "    <tr>\n",
       "      <th>0</th>\n",
       "      <td>LP001002</td>\n",
       "      <td>Male</td>\n",
       "      <td>No</td>\n",
       "      <td>0</td>\n",
       "      <td>Graduate</td>\n",
       "      <td>No</td>\n",
       "      <td>5849</td>\n",
       "      <td>0.0</td>\n",
       "      <td>NaN</td>\n",
       "      <td>360.0</td>\n",
       "      <td>1.0</td>\n",
       "      <td>Urban</td>\n",
       "      <td>1</td>\n",
       "    </tr>\n",
       "    <tr>\n",
       "      <th>1</th>\n",
       "      <td>LP001003</td>\n",
       "      <td>Male</td>\n",
       "      <td>Yes</td>\n",
       "      <td>1</td>\n",
       "      <td>Graduate</td>\n",
       "      <td>No</td>\n",
       "      <td>4583</td>\n",
       "      <td>1508.0</td>\n",
       "      <td>128.0</td>\n",
       "      <td>360.0</td>\n",
       "      <td>1.0</td>\n",
       "      <td>Rural</td>\n",
       "      <td>0</td>\n",
       "    </tr>\n",
       "    <tr>\n",
       "      <th>2</th>\n",
       "      <td>LP001005</td>\n",
       "      <td>Male</td>\n",
       "      <td>Yes</td>\n",
       "      <td>0</td>\n",
       "      <td>Graduate</td>\n",
       "      <td>Yes</td>\n",
       "      <td>3000</td>\n",
       "      <td>0.0</td>\n",
       "      <td>66.0</td>\n",
       "      <td>360.0</td>\n",
       "      <td>1.0</td>\n",
       "      <td>Urban</td>\n",
       "      <td>1</td>\n",
       "    </tr>\n",
       "    <tr>\n",
       "      <th>3</th>\n",
       "      <td>LP001006</td>\n",
       "      <td>Male</td>\n",
       "      <td>Yes</td>\n",
       "      <td>0</td>\n",
       "      <td>Not Graduate</td>\n",
       "      <td>No</td>\n",
       "      <td>2583</td>\n",
       "      <td>2358.0</td>\n",
       "      <td>120.0</td>\n",
       "      <td>360.0</td>\n",
       "      <td>1.0</td>\n",
       "      <td>Urban</td>\n",
       "      <td>1</td>\n",
       "    </tr>\n",
       "    <tr>\n",
       "      <th>4</th>\n",
       "      <td>LP001008</td>\n",
       "      <td>Male</td>\n",
       "      <td>No</td>\n",
       "      <td>0</td>\n",
       "      <td>Graduate</td>\n",
       "      <td>No</td>\n",
       "      <td>6000</td>\n",
       "      <td>0.0</td>\n",
       "      <td>141.0</td>\n",
       "      <td>360.0</td>\n",
       "      <td>1.0</td>\n",
       "      <td>Urban</td>\n",
       "      <td>1</td>\n",
       "    </tr>\n",
       "    <tr>\n",
       "      <th>...</th>\n",
       "      <td>...</td>\n",
       "      <td>...</td>\n",
       "      <td>...</td>\n",
       "      <td>...</td>\n",
       "      <td>...</td>\n",
       "      <td>...</td>\n",
       "      <td>...</td>\n",
       "      <td>...</td>\n",
       "      <td>...</td>\n",
       "      <td>...</td>\n",
       "      <td>...</td>\n",
       "      <td>...</td>\n",
       "      <td>...</td>\n",
       "    </tr>\n",
       "    <tr>\n",
       "      <th>609</th>\n",
       "      <td>LP002978</td>\n",
       "      <td>Female</td>\n",
       "      <td>No</td>\n",
       "      <td>0</td>\n",
       "      <td>Graduate</td>\n",
       "      <td>No</td>\n",
       "      <td>2900</td>\n",
       "      <td>0.0</td>\n",
       "      <td>71.0</td>\n",
       "      <td>360.0</td>\n",
       "      <td>1.0</td>\n",
       "      <td>Rural</td>\n",
       "      <td>1</td>\n",
       "    </tr>\n",
       "    <tr>\n",
       "      <th>610</th>\n",
       "      <td>LP002979</td>\n",
       "      <td>Male</td>\n",
       "      <td>Yes</td>\n",
       "      <td>3+</td>\n",
       "      <td>Graduate</td>\n",
       "      <td>No</td>\n",
       "      <td>4106</td>\n",
       "      <td>0.0</td>\n",
       "      <td>40.0</td>\n",
       "      <td>180.0</td>\n",
       "      <td>1.0</td>\n",
       "      <td>Rural</td>\n",
       "      <td>1</td>\n",
       "    </tr>\n",
       "    <tr>\n",
       "      <th>611</th>\n",
       "      <td>LP002983</td>\n",
       "      <td>Male</td>\n",
       "      <td>Yes</td>\n",
       "      <td>1</td>\n",
       "      <td>Graduate</td>\n",
       "      <td>No</td>\n",
       "      <td>8072</td>\n",
       "      <td>240.0</td>\n",
       "      <td>253.0</td>\n",
       "      <td>360.0</td>\n",
       "      <td>1.0</td>\n",
       "      <td>Urban</td>\n",
       "      <td>1</td>\n",
       "    </tr>\n",
       "    <tr>\n",
       "      <th>612</th>\n",
       "      <td>LP002984</td>\n",
       "      <td>Male</td>\n",
       "      <td>Yes</td>\n",
       "      <td>2</td>\n",
       "      <td>Graduate</td>\n",
       "      <td>No</td>\n",
       "      <td>7583</td>\n",
       "      <td>0.0</td>\n",
       "      <td>187.0</td>\n",
       "      <td>360.0</td>\n",
       "      <td>1.0</td>\n",
       "      <td>Urban</td>\n",
       "      <td>1</td>\n",
       "    </tr>\n",
       "    <tr>\n",
       "      <th>613</th>\n",
       "      <td>LP002990</td>\n",
       "      <td>Female</td>\n",
       "      <td>No</td>\n",
       "      <td>0</td>\n",
       "      <td>Graduate</td>\n",
       "      <td>Yes</td>\n",
       "      <td>4583</td>\n",
       "      <td>0.0</td>\n",
       "      <td>133.0</td>\n",
       "      <td>360.0</td>\n",
       "      <td>0.0</td>\n",
       "      <td>Semiurban</td>\n",
       "      <td>0</td>\n",
       "    </tr>\n",
       "  </tbody>\n",
       "</table>\n",
       "<p>614 rows × 13 columns</p>\n",
       "</div>"
      ],
      "text/plain": [
       "      Loan_ID  Gender Married Dependents     Education Self_Employed  \\\n",
       "0    LP001002    Male      No          0      Graduate            No   \n",
       "1    LP001003    Male     Yes          1      Graduate            No   \n",
       "2    LP001005    Male     Yes          0      Graduate           Yes   \n",
       "3    LP001006    Male     Yes          0  Not Graduate            No   \n",
       "4    LP001008    Male      No          0      Graduate            No   \n",
       "..        ...     ...     ...        ...           ...           ...   \n",
       "609  LP002978  Female      No          0      Graduate            No   \n",
       "610  LP002979    Male     Yes         3+      Graduate            No   \n",
       "611  LP002983    Male     Yes          1      Graduate            No   \n",
       "612  LP002984    Male     Yes          2      Graduate            No   \n",
       "613  LP002990  Female      No          0      Graduate           Yes   \n",
       "\n",
       "     ApplicantIncome  CoapplicantIncome  LoanAmount  Loan_Amount_Term  \\\n",
       "0               5849                0.0         NaN             360.0   \n",
       "1               4583             1508.0       128.0             360.0   \n",
       "2               3000                0.0        66.0             360.0   \n",
       "3               2583             2358.0       120.0             360.0   \n",
       "4               6000                0.0       141.0             360.0   \n",
       "..               ...                ...         ...               ...   \n",
       "609             2900                0.0        71.0             360.0   \n",
       "610             4106                0.0        40.0             180.0   \n",
       "611             8072              240.0       253.0             360.0   \n",
       "612             7583                0.0       187.0             360.0   \n",
       "613             4583                0.0       133.0             360.0   \n",
       "\n",
       "     Credit_History Property_Area  Loan_Status  \n",
       "0               1.0         Urban            1  \n",
       "1               1.0         Rural            0  \n",
       "2               1.0         Urban            1  \n",
       "3               1.0         Urban            1  \n",
       "4               1.0         Urban            1  \n",
       "..              ...           ...          ...  \n",
       "609             1.0         Rural            1  \n",
       "610             1.0         Rural            1  \n",
       "611             1.0         Urban            1  \n",
       "612             1.0         Urban            1  \n",
       "613             0.0     Semiurban            0  \n",
       "\n",
       "[614 rows x 13 columns]"
      ]
     },
     "execution_count": 11,
     "metadata": {},
     "output_type": "execute_result"
    }
   ],
   "source": [
    "train"
   ]
  },
  {
   "cell_type": "code",
   "execution_count": 12,
   "id": "32234761",
   "metadata": {
    "execution": {
     "iopub.execute_input": "2022-02-07T05:37:36.500634Z",
     "iopub.status.busy": "2022-02-07T05:37:36.499935Z",
     "iopub.status.idle": "2022-02-07T05:37:36.521178Z",
     "shell.execute_reply": "2022-02-07T05:37:36.521731Z",
     "shell.execute_reply.started": "2022-02-07T05:34:06.460404Z"
    },
    "papermill": {
     "duration": 0.090733,
     "end_time": "2022-02-07T05:37:36.521898",
     "exception": false,
     "start_time": "2022-02-07T05:37:36.431165",
     "status": "completed"
    },
    "tags": []
   },
   "outputs": [],
   "source": [
    "test=pd.read_csv('/kaggle/input/loan-prediction-problem-dataset/test_Y3wMUE5_7gLdaTN.csv')"
   ]
  },
  {
   "cell_type": "code",
   "execution_count": 13,
   "id": "f4476520",
   "metadata": {
    "execution": {
     "iopub.execute_input": "2022-02-07T05:37:36.656563Z",
     "iopub.status.busy": "2022-02-07T05:37:36.655653Z",
     "iopub.status.idle": "2022-02-07T05:37:36.877788Z",
     "shell.execute_reply": "2022-02-07T05:37:36.877304Z",
     "shell.execute_reply.started": "2022-02-07T05:34:06.469032Z"
    },
    "papermill": {
     "duration": 0.2902,
     "end_time": "2022-02-07T05:37:36.877931",
     "exception": false,
     "start_time": "2022-02-07T05:37:36.587731",
     "status": "completed"
    },
    "tags": []
   },
   "outputs": [
    {
     "data": {
      "text/plain": [
       "<AxesSubplot:xlabel='LoanAmount', ylabel='ApplicantIncome'>"
      ]
     },
     "execution_count": 13,
     "metadata": {},
     "output_type": "execute_result"
    },
    {
     "data": {
      "image/png": "[encoded data removed]",
      "text/plain": [
       "<Figure size 432x288 with 1 Axes>"
      ]
     },
     "metadata": {
      "needs_background": "light"
     },
     "output_type": "display_data"
    }
   ],
   "source": [
    "train.plot(kind='scatter',x='LoanAmount',y='ApplicantIncome')"
   ]
  },
  {
   "cell_type": "code",
   "execution_count": 14,
   "id": "3a856e83",
   "metadata": {
    "execution": {
     "iopub.execute_input": "2022-02-07T05:37:37.021277Z",
     "iopub.status.busy": "2022-02-07T05:37:37.020336Z",
     "iopub.status.idle": "2022-02-07T05:37:37.346319Z",
     "shell.execute_reply": "2022-02-07T05:37:37.346774Z",
     "shell.execute_reply.started": "2022-02-07T05:34:06.668596Z"
    },
    "papermill": {
     "duration": 0.400815,
     "end_time": "2022-02-07T05:37:37.346935",
     "exception": false,
     "start_time": "2022-02-07T05:37:36.946120",
     "status": "completed"
    },
    "tags": []
   },
   "outputs": [
    {
     "data": {
      "text/plain": [
       "<AxesSubplot:xlabel='LoanAmount', ylabel='ApplicantIncome'>"
      ]
     },
     "execution_count": 14,
     "metadata": {},
     "output_type": "execute_result"
    },
    {
     "data": {
      "image/png": "[encoded data removed]",
      "text/plain": [
       "<Figure size 720x576 with 1 Axes>"
      ]
     },
     "metadata": {
      "needs_background": "light"
     },
     "output_type": "display_data"
    }
   ],
   "source": [
    "plt.figure(figsize=(10,8))\n",
    "ssb.scatterplot(x=train['LoanAmount'],y=train['ApplicantIncome'],hue=train['Loan_Status'])"
   ]
  },
  {
   "cell_type": "code",
   "execution_count": 15,
   "id": "2ee09d19",
   "metadata": {
    "execution": {
     "iopub.execute_input": "2022-02-07T05:37:37.487176Z",
     "iopub.status.busy": "2022-02-07T05:37:37.486509Z",
     "iopub.status.idle": "2022-02-07T05:37:37.752838Z",
     "shell.execute_reply": "2022-02-07T05:37:37.753255Z",
     "shell.execute_reply.started": "2022-02-07T05:34:06.985775Z"
    },
    "papermill": {
     "duration": 0.338541,
     "end_time": "2022-02-07T05:37:37.753422",
     "exception": false,
     "start_time": "2022-02-07T05:37:37.414881",
     "status": "completed"
    },
    "tags": []
   },
   "outputs": [
    {
     "name": "stderr",
     "output_type": "stream",
     "text": [
      "/opt/conda/lib/python3.7/site-packages/seaborn/distributions.py:2619: FutureWarning: `distplot` is a deprecated function and will be removed in a future version. Please adapt your code to use either `displot` (a figure-level function with similar flexibility) or `histplot` (an axes-level function for histograms).\n",
      "  warnings.warn(msg, FutureWarning)\n"
     ]
    },
    {
     "data": {
      "text/plain": [
       "<AxesSubplot:xlabel='LoanAmount', ylabel='Density'>"
      ]
     },
     "execution_count": 15,
     "metadata": {},
     "output_type": "execute_result"
    },
    {
     "data": {
      "image/png": "[encoded data removed]",
      "text/plain": [
       "<Figure size 432x288 with 1 Axes>"
      ]
     },
     "metadata": {
      "needs_background": "light"
     },
     "output_type": "display_data"
    }
   ],
   "source": [
    "ssb.distplot(train.LoanAmount)"
   ]
  },
  {
   "cell_type": "markdown",
   "id": "8f36dbd4",
   "metadata": {
    "papermill": {
     "duration": 0.070304,
     "end_time": "2022-02-07T05:37:37.895275",
     "exception": false,
     "start_time": "2022-02-07T05:37:37.824971",
     "status": "completed"
    },
    "tags": []
   },
   "source": [
    "As we can see that credit history is very important variable by the help of correlation table."
   ]
  },
  {
   "cell_type": "code",
   "execution_count": 16,
   "id": "e36acfb5",
   "metadata": {
    "execution": {
     "iopub.execute_input": "2022-02-07T05:37:38.039610Z",
     "iopub.status.busy": "2022-02-07T05:37:38.038952Z",
     "iopub.status.idle": "2022-02-07T05:37:38.048505Z",
     "shell.execute_reply": "2022-02-07T05:37:38.047895Z",
     "shell.execute_reply.started": "2022-02-07T05:34:07.249612Z"
    },
    "papermill": {
     "duration": 0.082229,
     "end_time": "2022-02-07T05:37:38.048644",
     "exception": false,
     "start_time": "2022-02-07T05:37:37.966415",
     "status": "completed"
    },
    "tags": []
   },
   "outputs": [
    {
     "data": {
      "text/plain": [
       "1.0    475\n",
       "0.0     89\n",
       "Name: Credit_History, dtype: int64"
      ]
     },
     "execution_count": 16,
     "metadata": {},
     "output_type": "execute_result"
    }
   ],
   "source": [
    "train.Credit_History.value_counts()"
   ]
  },
  {
   "cell_type": "code",
   "execution_count": 17,
   "id": "00afab10",
   "metadata": {
    "execution": {
     "iopub.execute_input": "2022-02-07T05:37:38.192251Z",
     "iopub.status.busy": "2022-02-07T05:37:38.191573Z",
     "iopub.status.idle": "2022-02-07T05:37:38.343980Z",
     "shell.execute_reply": "2022-02-07T05:37:38.344473Z",
     "shell.execute_reply.started": "2022-02-07T05:34:07.260755Z"
    },
    "papermill": {
     "duration": 0.225478,
     "end_time": "2022-02-07T05:37:38.344638",
     "exception": false,
     "start_time": "2022-02-07T05:37:38.119160",
     "status": "completed"
    },
    "tags": []
   },
   "outputs": [
    {
     "name": "stderr",
     "output_type": "stream",
     "text": [
      "/opt/conda/lib/python3.7/site-packages/seaborn/_decorators.py:43: FutureWarning: Pass the following variable as a keyword arg: x. From version 0.12, the only valid positional argument will be `data`, and passing other arguments without an explicit keyword will result in an error or misinterpretation.\n",
      "  FutureWarning\n"
     ]
    },
    {
     "data": {
      "text/plain": [
       "<AxesSubplot:xlabel='Credit_History', ylabel='count'>"
      ]
     },
     "execution_count": 17,
     "metadata": {},
     "output_type": "execute_result"
    },
    {
     "data": {
      "image/png": "[encoded data removed]",
      "text/plain": [
       "<Figure size 432x288 with 1 Axes>"
      ]
     },
     "metadata": {
      "needs_background": "light"
     },
     "output_type": "display_data"
    }
   ],
   "source": [
    "ssb.countplot(train.Credit_History)"
   ]
  },
  {
   "cell_type": "code",
   "execution_count": 18,
   "id": "d366e948",
   "metadata": {
    "execution": {
     "iopub.execute_input": "2022-02-07T05:37:38.489334Z",
     "iopub.status.busy": "2022-02-07T05:37:38.488697Z",
     "iopub.status.idle": "2022-02-07T05:37:38.494899Z",
     "shell.execute_reply": "2022-02-07T05:37:38.494452Z",
     "shell.execute_reply.started": "2022-02-07T05:34:07.379068Z"
    },
    "papermill": {
     "duration": 0.079753,
     "end_time": "2022-02-07T05:37:38.495031",
     "exception": false,
     "start_time": "2022-02-07T05:37:38.415278",
     "status": "completed"
    },
    "tags": []
   },
   "outputs": [
    {
     "data": {
      "text/plain": [
       "1    422\n",
       "0    192\n",
       "Name: Loan_Status, dtype: int64"
      ]
     },
     "execution_count": 18,
     "metadata": {},
     "output_type": "execute_result"
    }
   ],
   "source": [
    "train.Loan_Status.value_counts()"
   ]
  },
  {
   "cell_type": "code",
   "execution_count": 19,
   "id": "4c16d0c1",
   "metadata": {
    "execution": {
     "iopub.execute_input": "2022-02-07T05:37:38.646815Z",
     "iopub.status.busy": "2022-02-07T05:37:38.646186Z",
     "iopub.status.idle": "2022-02-07T05:37:38.824570Z",
     "shell.execute_reply": "2022-02-07T05:37:38.824960Z",
     "shell.execute_reply.started": "2022-02-07T05:34:07.390546Z"
    },
    "papermill": {
     "duration": 0.258881,
     "end_time": "2022-02-07T05:37:38.825122",
     "exception": false,
     "start_time": "2022-02-07T05:37:38.566241",
     "status": "completed"
    },
    "tags": []
   },
   "outputs": [
    {
     "name": "stderr",
     "output_type": "stream",
     "text": [
      "/opt/conda/lib/python3.7/site-packages/seaborn/_decorators.py:43: FutureWarning: Pass the following variable as a keyword arg: x. From version 0.12, the only valid positional argument will be `data`, and passing other arguments without an explicit keyword will result in an error or misinterpretation.\n",
      "  FutureWarning\n"
     ]
    },
    {
     "data": {
      "text/plain": [
       "<AxesSubplot:xlabel='Loan_Status', ylabel='count'>"
      ]
     },
     "execution_count": 19,
     "metadata": {},
     "output_type": "execute_result"
    },
    {
     "data": {
      "image/png": "[encoded data removed]",
      "text/plain": [
       "<Figure size 432x288 with 1 Axes>"
      ]
     },
     "metadata": {
      "needs_background": "light"
     },
     "output_type": "display_data"
    }
   ],
   "source": [
    "ssb.countplot(train.Loan_Status)"
   ]
  },
  {
   "cell_type": "code",
   "execution_count": 20,
   "id": "05ce4732",
   "metadata": {
    "execution": {
     "iopub.execute_input": "2022-02-07T05:37:38.974965Z",
     "iopub.status.busy": "2022-02-07T05:37:38.974369Z",
     "iopub.status.idle": "2022-02-07T05:37:39.176617Z",
     "shell.execute_reply": "2022-02-07T05:37:39.175957Z",
     "shell.execute_reply.started": "2022-02-07T05:34:07.534495Z"
    },
    "papermill": {
     "duration": 0.279428,
     "end_time": "2022-02-07T05:37:39.176766",
     "exception": false,
     "start_time": "2022-02-07T05:37:38.897338",
     "status": "completed"
    },
    "tags": []
   },
   "outputs": [
    {
     "name": "stderr",
     "output_type": "stream",
     "text": [
      "/opt/conda/lib/python3.7/site-packages/seaborn/_decorators.py:43: FutureWarning: Pass the following variable as a keyword arg: x. From version 0.12, the only valid positional argument will be `data`, and passing other arguments without an explicit keyword will result in an error or misinterpretation.\n",
      "  FutureWarning\n"
     ]
    },
    {
     "data": {
      "text/plain": [
       "<AxesSubplot:xlabel='Credit_History', ylabel='count'>"
      ]
     },
     "execution_count": 20,
     "metadata": {},
     "output_type": "execute_result"
    },
    {
     "data": {
      "image/png": "[encoded data removed]",
      "text/plain": [
       "<Figure size 432x288 with 1 Axes>"
      ]
     },
     "metadata": {
      "needs_background": "light"
     },
     "output_type": "display_data"
    }
   ],
   "source": [
    "ssb.countplot(train.Credit_History,hue=train.Loan_Status)"
   ]
  },
  {
   "cell_type": "markdown",
   "id": "ec29dbba",
   "metadata": {
    "papermill": {
     "duration": 0.074734,
     "end_time": "2022-02-07T05:37:39.327006",
     "exception": false,
     "start_time": "2022-02-07T05:37:39.252272",
     "status": "completed"
    },
    "tags": []
   },
   "source": [
    "In the the visualisation also we can see that when the credit history is 0 we have very less chance to get the loan"
   ]
  },
  {
   "cell_type": "markdown",
   "id": "b2648a64",
   "metadata": {
    "papermill": {
     "duration": 0.074069,
     "end_time": "2022-02-07T05:37:39.475849",
     "exception": false,
     "start_time": "2022-02-07T05:37:39.401780",
     "status": "completed"
    },
    "tags": []
   },
   "source": [
    "# Missing values"
   ]
  },
  {
   "cell_type": "code",
   "execution_count": 21,
   "id": "f3032f37",
   "metadata": {
    "execution": {
     "iopub.execute_input": "2022-02-07T05:37:39.632360Z",
     "iopub.status.busy": "2022-02-07T05:37:39.631382Z",
     "iopub.status.idle": "2022-02-07T05:37:39.636458Z",
     "shell.execute_reply": "2022-02-07T05:37:39.636923Z",
     "shell.execute_reply.started": "2022-02-07T05:34:07.711821Z"
    },
    "papermill": {
     "duration": 0.087407,
     "end_time": "2022-02-07T05:37:39.637086",
     "exception": false,
     "start_time": "2022-02-07T05:37:39.549679",
     "status": "completed"
    },
    "tags": []
   },
   "outputs": [
    {
     "data": {
      "text/plain": [
       "Loan_ID               0\n",
       "Gender               13\n",
       "Married               3\n",
       "Dependents           15\n",
       "Education             0\n",
       "Self_Employed        32\n",
       "ApplicantIncome       0\n",
       "CoapplicantIncome     0\n",
       "LoanAmount           22\n",
       "Loan_Amount_Term     14\n",
       "Credit_History       50\n",
       "Property_Area         0\n",
       "Loan_Status           0\n",
       "dtype: int64"
      ]
     },
     "execution_count": 21,
     "metadata": {},
     "output_type": "execute_result"
    }
   ],
   "source": [
    "train.isnull().sum()"
   ]
  },
  {
   "cell_type": "code",
   "execution_count": 22,
   "id": "c752e4d6",
   "metadata": {
    "execution": {
     "iopub.execute_input": "2022-02-07T05:37:39.787061Z",
     "iopub.status.busy": "2022-02-07T05:37:39.786504Z",
     "iopub.status.idle": "2022-02-07T05:37:39.792488Z",
     "shell.execute_reply": "2022-02-07T05:37:39.792961Z",
     "shell.execute_reply.started": "2022-02-07T05:34:07.724918Z"
    },
    "papermill": {
     "duration": 0.082077,
     "end_time": "2022-02-07T05:37:39.793149",
     "exception": false,
     "start_time": "2022-02-07T05:37:39.711072",
     "status": "completed"
    },
    "tags": []
   },
   "outputs": [
    {
     "data": {
      "text/plain": [
       "ApplicantIncome     -0.004710\n",
       "CoapplicantIncome   -0.059187\n",
       "LoanAmount          -0.037318\n",
       "Loan_Amount_Term    -0.021268\n",
       "Credit_History       0.561678\n",
       "Loan_Status          1.000000\n",
       "Name: Loan_Status, dtype: float64"
      ]
     },
     "execution_count": 22,
     "metadata": {},
     "output_type": "execute_result"
    }
   ],
   "source": [
    "train.corr().Loan_Status"
   ]
  },
  {
   "cell_type": "code",
   "execution_count": 23,
   "id": "dc6b5739",
   "metadata": {
    "execution": {
     "iopub.execute_input": "2022-02-07T05:37:39.943966Z",
     "iopub.status.busy": "2022-02-07T05:37:39.943351Z",
     "iopub.status.idle": "2022-02-07T05:37:39.946402Z",
     "shell.execute_reply": "2022-02-07T05:37:39.946889Z",
     "shell.execute_reply.started": "2022-02-07T05:34:07.734900Z"
    },
    "papermill": {
     "duration": 0.080192,
     "end_time": "2022-02-07T05:37:39.947052",
     "exception": false,
     "start_time": "2022-02-07T05:37:39.866860",
     "status": "completed"
    },
    "tags": []
   },
   "outputs": [],
   "source": [
    "from scipy.stats import chi2_contingency"
   ]
  },
  {
   "cell_type": "code",
   "execution_count": 24,
   "id": "5fc908cd",
   "metadata": {
    "execution": {
     "iopub.execute_input": "2022-02-07T05:37:40.100923Z",
     "iopub.status.busy": "2022-02-07T05:37:40.100349Z",
     "iopub.status.idle": "2022-02-07T05:37:40.103525Z",
     "shell.execute_reply": "2022-02-07T05:37:40.103979Z",
     "shell.execute_reply.started": "2022-02-07T05:34:07.745612Z"
    },
    "papermill": {
     "duration": 0.080102,
     "end_time": "2022-02-07T05:37:40.104165",
     "exception": false,
     "start_time": "2022-02-07T05:37:40.024063",
     "status": "completed"
    },
    "tags": []
   },
   "outputs": [],
   "source": [
    "def chi2(x):\n",
    "    score,p_value,_,_=chi2_contingency(x)\n",
    "    return score,p_value"
   ]
  },
  {
   "cell_type": "code",
   "execution_count": 25,
   "id": "3007af40",
   "metadata": {
    "execution": {
     "iopub.execute_input": "2022-02-07T05:37:40.255746Z",
     "iopub.status.busy": "2022-02-07T05:37:40.255075Z",
     "iopub.status.idle": "2022-02-07T05:37:40.266916Z",
     "shell.execute_reply": "2022-02-07T05:37:40.266330Z",
     "shell.execute_reply.started": "2022-02-07T05:34:07.756365Z"
    },
    "papermill": {
     "duration": 0.088483,
     "end_time": "2022-02-07T05:37:40.267050",
     "exception": false,
     "start_time": "2022-02-07T05:37:40.178567",
     "status": "completed"
    },
    "tags": []
   },
   "outputs": [
    {
     "name": "stderr",
     "output_type": "stream",
     "text": [
      "/opt/conda/lib/python3.7/site-packages/pandas/core/frame.py:4913: SettingWithCopyWarning: \n",
      "A value is trying to be set on a copy of a slice from a DataFrame\n",
      "\n",
      "See the caveats in the documentation: https://pandas.pydata.org/pandas-docs/stable/user_guide/indexing.html#returning-a-view-versus-a-copy\n",
      "  errors=errors,\n"
     ]
    }
   ],
   "source": [
    "cat=train.select_dtypes(include=['object'])\n",
    "cat.drop(['Loan_ID'],axis=1,inplace=True)"
   ]
  },
  {
   "cell_type": "code",
   "execution_count": 26,
   "id": "dab89d3a",
   "metadata": {
    "execution": {
     "iopub.execute_input": "2022-02-07T05:37:40.421234Z",
     "iopub.status.busy": "2022-02-07T05:37:40.420603Z",
     "iopub.status.idle": "2022-02-07T05:37:40.425301Z",
     "shell.execute_reply": "2022-02-07T05:37:40.425767Z",
     "shell.execute_reply.started": "2022-02-07T05:34:07.777321Z"
    },
    "papermill": {
     "duration": 0.084731,
     "end_time": "2022-02-07T05:37:40.425932",
     "exception": false,
     "start_time": "2022-02-07T05:37:40.341201",
     "status": "completed"
    },
    "tags": []
   },
   "outputs": [
    {
     "data": {
      "text/plain": [
       "Index(['Gender', 'Married', 'Dependents', 'Education', 'Self_Employed',\n",
       "       'Property_Area'],\n",
       "      dtype='object')"
      ]
     },
     "execution_count": 26,
     "metadata": {},
     "output_type": "execute_result"
    }
   ],
   "source": [
    "score=[]\n",
    "p_value=[]\n",
    "element=cat.columns\n",
    "element"
   ]
  },
  {
   "cell_type": "code",
   "execution_count": 27,
   "id": "0c6e531e",
   "metadata": {
    "execution": {
     "iopub.execute_input": "2022-02-07T05:37:40.582876Z",
     "iopub.status.busy": "2022-02-07T05:37:40.582180Z",
     "iopub.status.idle": "2022-02-07T05:37:40.651583Z",
     "shell.execute_reply": "2022-02-07T05:37:40.650684Z",
     "shell.execute_reply.started": "2022-02-07T05:34:07.787453Z"
    },
    "papermill": {
     "duration": 0.151367,
     "end_time": "2022-02-07T05:37:40.651748",
     "exception": false,
     "start_time": "2022-02-07T05:37:40.500381",
     "status": "completed"
    },
    "tags": []
   },
   "outputs": [
    {
     "name": "stdout",
     "output_type": "stream",
     "text": [
      "Gender 0.13962612116543877 0.7086529816451106\n",
      "Married 4.475019348315097 0.03439381301579988\n",
      "Dependents 3.158339770698263 0.3678506740863211\n",
      "Education 4.091490413303621 0.04309962129357355\n",
      "Self_Employed 0.0 1.0\n",
      "Property_Area 12.297623130485675 0.0021360187811644937\n",
      "Credit_History 174.63729658142535 7.184759548750746e-40\n"
     ]
    }
   ],
   "source": [
    "for i in ['Gender', 'Married', 'Dependents', 'Education', 'Self_Employed',\n",
    "       'Property_Area','Credit_History']:\n",
    "    chi=pd.crosstab(train[i],train.Loan_Status)\n",
    "    d,p=chi2(chi)\n",
    "    score.append(d)\n",
    "    p_value.append(p)\n",
    "    print(i,d,p)"
   ]
  },
  {
   "cell_type": "markdown",
   "id": "b4099fe9",
   "metadata": {
    "papermill": {
     "duration": 0.074672,
     "end_time": "2022-02-07T05:37:40.801206",
     "exception": false,
     "start_time": "2022-02-07T05:37:40.726534",
     "status": "completed"
    },
    "tags": []
   },
   "source": [
    "Here we can see that when we perform Chi square test then the the p-value of credit history is very low other than credit history popular area,education and married have low P-value as compared to others category variable.it means these are important variable."
   ]
  },
  {
   "cell_type": "code",
   "execution_count": 28,
   "id": "7d6afbf9",
   "metadata": {
    "execution": {
     "iopub.execute_input": "2022-02-07T05:37:40.959412Z",
     "iopub.status.busy": "2022-02-07T05:37:40.957831Z",
     "iopub.status.idle": "2022-02-07T05:37:41.111466Z",
     "shell.execute_reply": "2022-02-07T05:37:41.111891Z",
     "shell.execute_reply.started": "2022-02-07T05:34:07.874614Z"
    },
    "papermill": {
     "duration": 0.236448,
     "end_time": "2022-02-07T05:37:41.112067",
     "exception": false,
     "start_time": "2022-02-07T05:37:40.875619",
     "status": "completed"
    },
    "tags": []
   },
   "outputs": [
    {
     "name": "stderr",
     "output_type": "stream",
     "text": [
      "/opt/conda/lib/python3.7/site-packages/seaborn/_decorators.py:43: FutureWarning: Pass the following variable as a keyword arg: x. From version 0.12, the only valid positional argument will be `data`, and passing other arguments without an explicit keyword will result in an error or misinterpretation.\n",
      "  FutureWarning\n"
     ]
    },
    {
     "data": {
      "text/plain": [
       "<AxesSubplot:xlabel='Gender', ylabel='count'>"
      ]
     },
     "execution_count": 28,
     "metadata": {},
     "output_type": "execute_result"
    },
    {
     "data": {
      "image/png": "[encoded data removed]",
      "text/plain": [
       "<Figure size 432x288 with 1 Axes>"
      ]
     },
     "metadata": {
      "needs_background": "light"
     },
     "output_type": "display_data"
    }
   ],
   "source": [
    "ssb.countplot(train.Gender)"
   ]
  },
  {
   "cell_type": "markdown",
   "id": "32d943fa",
   "metadata": {
    "papermill": {
     "duration": 0.077199,
     "end_time": "2022-02-07T05:37:41.267184",
     "exception": false,
     "start_time": "2022-02-07T05:37:41.189985",
     "status": "completed"
    },
    "tags": []
   },
   "source": [
    "I just fill the the missing value with the mode of the the column other than credit history because it is very important variable."
   ]
  },
  {
   "cell_type": "code",
   "execution_count": 29,
   "id": "e9e8d664",
   "metadata": {
    "execution": {
     "iopub.execute_input": "2022-02-07T05:37:41.426597Z",
     "iopub.status.busy": "2022-02-07T05:37:41.424221Z",
     "iopub.status.idle": "2022-02-07T05:37:41.436701Z",
     "shell.execute_reply": "2022-02-07T05:37:41.436019Z",
     "shell.execute_reply.started": "2022-02-07T05:34:08.010400Z"
    },
    "papermill": {
     "duration": 0.092395,
     "end_time": "2022-02-07T05:37:41.436846",
     "exception": false,
     "start_time": "2022-02-07T05:37:41.344451",
     "status": "completed"
    },
    "tags": []
   },
   "outputs": [],
   "source": [
    "for i in element:\n",
    "    train[i].fillna(train[i].mode()[0],inplace=True)\n",
    "    test[i].fillna(test[i].mode()[0],inplace=True)"
   ]
  },
  {
   "cell_type": "code",
   "execution_count": 30,
   "id": "6e18d870",
   "metadata": {
    "execution": {
     "iopub.execute_input": "2022-02-07T05:37:41.594382Z",
     "iopub.status.busy": "2022-02-07T05:37:41.593727Z",
     "iopub.status.idle": "2022-02-07T05:37:41.597894Z",
     "shell.execute_reply": "2022-02-07T05:37:41.598393Z",
     "shell.execute_reply.started": "2022-02-07T05:34:08.034254Z"
    },
    "papermill": {
     "duration": 0.084355,
     "end_time": "2022-02-07T05:37:41.598565",
     "exception": false,
     "start_time": "2022-02-07T05:37:41.514210",
     "status": "completed"
    },
    "tags": []
   },
   "outputs": [
    {
     "data": {
      "text/plain": [
       "array(['Male', 'Female'], dtype=object)"
      ]
     },
     "execution_count": 30,
     "metadata": {},
     "output_type": "execute_result"
    }
   ],
   "source": [
    "train.Gender.unique()"
   ]
  },
  {
   "cell_type": "code",
   "execution_count": 31,
   "id": "da09dc37",
   "metadata": {
    "execution": {
     "iopub.execute_input": "2022-02-07T05:37:41.759257Z",
     "iopub.status.busy": "2022-02-07T05:37:41.754272Z",
     "iopub.status.idle": "2022-02-07T05:37:41.761789Z",
     "shell.execute_reply": "2022-02-07T05:37:41.762204Z",
     "shell.execute_reply.started": "2022-02-07T05:34:08.048205Z"
    },
    "papermill": {
     "duration": 0.086475,
     "end_time": "2022-02-07T05:37:41.762366",
     "exception": false,
     "start_time": "2022-02-07T05:37:41.675891",
     "status": "completed"
    },
    "tags": []
   },
   "outputs": [
    {
     "data": {
      "text/plain": [
       "Loan_ID               0\n",
       "Gender                0\n",
       "Married               0\n",
       "Dependents            0\n",
       "Education             0\n",
       "Self_Employed         0\n",
       "ApplicantIncome       0\n",
       "CoapplicantIncome     0\n",
       "LoanAmount            5\n",
       "Loan_Amount_Term      6\n",
       "Credit_History       29\n",
       "Property_Area         0\n",
       "dtype: int64"
      ]
     },
     "execution_count": 31,
     "metadata": {},
     "output_type": "execute_result"
    }
   ],
   "source": [
    "test.isnull().sum()"
   ]
  },
  {
   "cell_type": "code",
   "execution_count": 32,
   "id": "ced05768",
   "metadata": {
    "execution": {
     "iopub.execute_input": "2022-02-07T05:37:41.921710Z",
     "iopub.status.busy": "2022-02-07T05:37:41.918691Z",
     "iopub.status.idle": "2022-02-07T05:37:41.923293Z",
     "shell.execute_reply": "2022-02-07T05:37:41.923799Z",
     "shell.execute_reply.started": "2022-02-07T05:34:08.061438Z"
    },
    "papermill": {
     "duration": 0.084873,
     "end_time": "2022-02-07T05:37:41.923968",
     "exception": false,
     "start_time": "2022-02-07T05:37:41.839095",
     "status": "completed"
    },
    "tags": []
   },
   "outputs": [],
   "source": [
    "train_1=train.drop(['Loan_Status'],axis=1)"
   ]
  },
  {
   "cell_type": "code",
   "execution_count": 33,
   "id": "f81a1312",
   "metadata": {
    "execution": {
     "iopub.execute_input": "2022-02-07T05:37:42.083425Z",
     "iopub.status.busy": "2022-02-07T05:37:42.082487Z",
     "iopub.status.idle": "2022-02-07T05:37:42.087880Z",
     "shell.execute_reply": "2022-02-07T05:37:42.088359Z",
     "shell.execute_reply.started": "2022-02-07T05:34:08.073833Z"
    },
    "papermill": {
     "duration": 0.085805,
     "end_time": "2022-02-07T05:37:42.088531",
     "exception": false,
     "start_time": "2022-02-07T05:37:42.002726",
     "status": "completed"
    },
    "tags": []
   },
   "outputs": [],
   "source": [
    "data=pd.concat((train_1,test),axis=0)"
   ]
  },
  {
   "cell_type": "code",
   "execution_count": 34,
   "id": "f37ce67d",
   "metadata": {
    "execution": {
     "iopub.execute_input": "2022-02-07T05:37:42.246395Z",
     "iopub.status.busy": "2022-02-07T05:37:42.245444Z",
     "iopub.status.idle": "2022-02-07T05:37:42.253441Z",
     "shell.execute_reply": "2022-02-07T05:37:42.253886Z",
     "shell.execute_reply.started": "2022-02-07T05:34:08.087315Z"
    },
    "papermill": {
     "duration": 0.089423,
     "end_time": "2022-02-07T05:37:42.254045",
     "exception": false,
     "start_time": "2022-02-07T05:37:42.164622",
     "status": "completed"
    },
    "tags": []
   },
   "outputs": [
    {
     "data": {
      "text/plain": [
       "Loan_ID               0\n",
       "Gender                0\n",
       "Married               0\n",
       "Dependents            0\n",
       "Education             0\n",
       "Self_Employed         0\n",
       "ApplicantIncome       0\n",
       "CoapplicantIncome     0\n",
       "LoanAmount           27\n",
       "Loan_Amount_Term     20\n",
       "Credit_History       79\n",
       "Property_Area         0\n",
       "dtype: int64"
      ]
     },
     "execution_count": 34,
     "metadata": {},
     "output_type": "execute_result"
    }
   ],
   "source": [
    "data.isnull().sum()"
   ]
  },
  {
   "cell_type": "code",
   "execution_count": 35,
   "id": "d44a08fd",
   "metadata": {
    "execution": {
     "iopub.execute_input": "2022-02-07T05:37:42.413006Z",
     "iopub.status.busy": "2022-02-07T05:37:42.412087Z",
     "iopub.status.idle": "2022-02-07T05:37:42.431539Z",
     "shell.execute_reply": "2022-02-07T05:37:42.431962Z",
     "shell.execute_reply.started": "2022-02-07T05:34:08.107903Z"
    },
    "papermill": {
     "duration": 0.100204,
     "end_time": "2022-02-07T05:37:42.432145",
     "exception": false,
     "start_time": "2022-02-07T05:37:42.331941",
     "status": "completed"
    },
    "tags": []
   },
   "outputs": [
    {
     "data": {
      "text/html": [
       "<div>\n",
       "<style scoped>\n",
       "    .dataframe tbody tr th:only-of-type {\n",
       "        vertical-align: middle;\n",
       "    }\n",
       "\n",
       "    .dataframe tbody tr th {\n",
       "        vertical-align: top;\n",
       "    }\n",
       "\n",
       "    .dataframe thead th {\n",
       "        text-align: right;\n",
       "    }\n",
       "</style>\n",
       "<table border=\"1\" class=\"dataframe\">\n",
       "  <thead>\n",
       "    <tr style=\"text-align: right;\">\n",
       "      <th></th>\n",
       "      <th>Loan_ID</th>\n",
       "      <th>Gender</th>\n",
       "      <th>Married</th>\n",
       "      <th>Dependents</th>\n",
       "      <th>Education</th>\n",
       "      <th>Self_Employed</th>\n",
       "      <th>ApplicantIncome</th>\n",
       "      <th>CoapplicantIncome</th>\n",
       "      <th>LoanAmount</th>\n",
       "      <th>Loan_Amount_Term</th>\n",
       "      <th>Credit_History</th>\n",
       "      <th>Property_Area</th>\n",
       "    </tr>\n",
       "  </thead>\n",
       "  <tbody>\n",
       "    <tr>\n",
       "      <th>0</th>\n",
       "      <td>LP001002</td>\n",
       "      <td>Male</td>\n",
       "      <td>No</td>\n",
       "      <td>0</td>\n",
       "      <td>Graduate</td>\n",
       "      <td>No</td>\n",
       "      <td>5849</td>\n",
       "      <td>0.0</td>\n",
       "      <td>NaN</td>\n",
       "      <td>360.0</td>\n",
       "      <td>1.0</td>\n",
       "      <td>Urban</td>\n",
       "    </tr>\n",
       "    <tr>\n",
       "      <th>1</th>\n",
       "      <td>LP001003</td>\n",
       "      <td>Male</td>\n",
       "      <td>Yes</td>\n",
       "      <td>1</td>\n",
       "      <td>Graduate</td>\n",
       "      <td>No</td>\n",
       "      <td>4583</td>\n",
       "      <td>1508.0</td>\n",
       "      <td>128.0</td>\n",
       "      <td>360.0</td>\n",
       "      <td>1.0</td>\n",
       "      <td>Rural</td>\n",
       "    </tr>\n",
       "    <tr>\n",
       "      <th>2</th>\n",
       "      <td>LP001005</td>\n",
       "      <td>Male</td>\n",
       "      <td>Yes</td>\n",
       "      <td>0</td>\n",
       "      <td>Graduate</td>\n",
       "      <td>Yes</td>\n",
       "      <td>3000</td>\n",
       "      <td>0.0</td>\n",
       "      <td>66.0</td>\n",
       "      <td>360.0</td>\n",
       "      <td>1.0</td>\n",
       "      <td>Urban</td>\n",
       "    </tr>\n",
       "    <tr>\n",
       "      <th>3</th>\n",
       "      <td>LP001006</td>\n",
       "      <td>Male</td>\n",
       "      <td>Yes</td>\n",
       "      <td>0</td>\n",
       "      <td>Not Graduate</td>\n",
       "      <td>No</td>\n",
       "      <td>2583</td>\n",
       "      <td>2358.0</td>\n",
       "      <td>120.0</td>\n",
       "      <td>360.0</td>\n",
       "      <td>1.0</td>\n",
       "      <td>Urban</td>\n",
       "    </tr>\n",
       "    <tr>\n",
       "      <th>4</th>\n",
       "      <td>LP001008</td>\n",
       "      <td>Male</td>\n",
       "      <td>No</td>\n",
       "      <td>0</td>\n",
       "      <td>Graduate</td>\n",
       "      <td>No</td>\n",
       "      <td>6000</td>\n",
       "      <td>0.0</td>\n",
       "      <td>141.0</td>\n",
       "      <td>360.0</td>\n",
       "      <td>1.0</td>\n",
       "      <td>Urban</td>\n",
       "    </tr>\n",
       "    <tr>\n",
       "      <th>...</th>\n",
       "      <td>...</td>\n",
       "      <td>...</td>\n",
       "      <td>...</td>\n",
       "      <td>...</td>\n",
       "      <td>...</td>\n",
       "      <td>...</td>\n",
       "      <td>...</td>\n",
       "      <td>...</td>\n",
       "      <td>...</td>\n",
       "      <td>...</td>\n",
       "      <td>...</td>\n",
       "      <td>...</td>\n",
       "    </tr>\n",
       "    <tr>\n",
       "      <th>362</th>\n",
       "      <td>LP002971</td>\n",
       "      <td>Male</td>\n",
       "      <td>Yes</td>\n",
       "      <td>3+</td>\n",
       "      <td>Not Graduate</td>\n",
       "      <td>Yes</td>\n",
       "      <td>4009</td>\n",
       "      <td>1777.0</td>\n",
       "      <td>113.0</td>\n",
       "      <td>360.0</td>\n",
       "      <td>1.0</td>\n",
       "      <td>Urban</td>\n",
       "    </tr>\n",
       "    <tr>\n",
       "      <th>363</th>\n",
       "      <td>LP002975</td>\n",
       "      <td>Male</td>\n",
       "      <td>Yes</td>\n",
       "      <td>0</td>\n",
       "      <td>Graduate</td>\n",
       "      <td>No</td>\n",
       "      <td>4158</td>\n",
       "      <td>709.0</td>\n",
       "      <td>115.0</td>\n",
       "      <td>360.0</td>\n",
       "      <td>1.0</td>\n",
       "      <td>Urban</td>\n",
       "    </tr>\n",
       "    <tr>\n",
       "      <th>364</th>\n",
       "      <td>LP002980</td>\n",
       "      <td>Male</td>\n",
       "      <td>No</td>\n",
       "      <td>0</td>\n",
       "      <td>Graduate</td>\n",
       "      <td>No</td>\n",
       "      <td>3250</td>\n",
       "      <td>1993.0</td>\n",
       "      <td>126.0</td>\n",
       "      <td>360.0</td>\n",
       "      <td>NaN</td>\n",
       "      <td>Semiurban</td>\n",
       "    </tr>\n",
       "    <tr>\n",
       "      <th>365</th>\n",
       "      <td>LP002986</td>\n",
       "      <td>Male</td>\n",
       "      <td>Yes</td>\n",
       "      <td>0</td>\n",
       "      <td>Graduate</td>\n",
       "      <td>No</td>\n",
       "      <td>5000</td>\n",
       "      <td>2393.0</td>\n",
       "      <td>158.0</td>\n",
       "      <td>360.0</td>\n",
       "      <td>1.0</td>\n",
       "      <td>Rural</td>\n",
       "    </tr>\n",
       "    <tr>\n",
       "      <th>366</th>\n",
       "      <td>LP002989</td>\n",
       "      <td>Male</td>\n",
       "      <td>No</td>\n",
       "      <td>0</td>\n",
       "      <td>Graduate</td>\n",
       "      <td>Yes</td>\n",
       "      <td>9200</td>\n",
       "      <td>0.0</td>\n",
       "      <td>98.0</td>\n",
       "      <td>180.0</td>\n",
       "      <td>1.0</td>\n",
       "      <td>Rural</td>\n",
       "    </tr>\n",
       "  </tbody>\n",
       "</table>\n",
       "<p>981 rows × 12 columns</p>\n",
       "</div>"
      ],
      "text/plain": [
       "      Loan_ID Gender Married Dependents     Education Self_Employed  \\\n",
       "0    LP001002   Male      No          0      Graduate            No   \n",
       "1    LP001003   Male     Yes          1      Graduate            No   \n",
       "2    LP001005   Male     Yes          0      Graduate           Yes   \n",
       "3    LP001006   Male     Yes          0  Not Graduate            No   \n",
       "4    LP001008   Male      No          0      Graduate            No   \n",
       "..        ...    ...     ...        ...           ...           ...   \n",
       "362  LP002971   Male     Yes         3+  Not Graduate           Yes   \n",
       "363  LP002975   Male     Yes          0      Graduate            No   \n",
       "364  LP002980   Male      No          0      Graduate            No   \n",
       "365  LP002986   Male     Yes          0      Graduate            No   \n",
       "366  LP002989   Male      No          0      Graduate           Yes   \n",
       "\n",
       "     ApplicantIncome  CoapplicantIncome  LoanAmount  Loan_Amount_Term  \\\n",
       "0               5849                0.0         NaN             360.0   \n",
       "1               4583             1508.0       128.0             360.0   \n",
       "2               3000                0.0        66.0             360.0   \n",
       "3               2583             2358.0       120.0             360.0   \n",
       "4               6000                0.0       141.0             360.0   \n",
       "..               ...                ...         ...               ...   \n",
       "362             4009             1777.0       113.0             360.0   \n",
       "363             4158              709.0       115.0             360.0   \n",
       "364             3250             1993.0       126.0             360.0   \n",
       "365             5000             2393.0       158.0             360.0   \n",
       "366             9200                0.0        98.0             180.0   \n",
       "\n",
       "     Credit_History Property_Area  \n",
       "0               1.0         Urban  \n",
       "1               1.0         Rural  \n",
       "2               1.0         Urban  \n",
       "3               1.0         Urban  \n",
       "4               1.0         Urban  \n",
       "..              ...           ...  \n",
       "362             1.0         Urban  \n",
       "363             1.0         Urban  \n",
       "364             NaN     Semiurban  \n",
       "365             1.0         Rural  \n",
       "366             1.0         Rural  \n",
       "\n",
       "[981 rows x 12 columns]"
      ]
     },
     "execution_count": 35,
     "metadata": {},
     "output_type": "execute_result"
    }
   ],
   "source": [
    "data"
   ]
  },
  {
   "cell_type": "code",
   "execution_count": 36,
   "id": "d74e0d3a",
   "metadata": {
    "execution": {
     "iopub.execute_input": "2022-02-07T05:37:42.590014Z",
     "iopub.status.busy": "2022-02-07T05:37:42.589095Z",
     "iopub.status.idle": "2022-02-07T05:37:42.593988Z",
     "shell.execute_reply": "2022-02-07T05:37:42.594451Z",
     "shell.execute_reply.started": "2022-02-07T05:34:08.136231Z"
    },
    "papermill": {
     "duration": 0.086102,
     "end_time": "2022-02-07T05:37:42.594622",
     "exception": false,
     "start_time": "2022-02-07T05:37:42.508520",
     "status": "completed"
    },
    "tags": []
   },
   "outputs": [],
   "source": [
    "df=data.drop(['Loan_ID'],axis=1)"
   ]
  },
  {
   "cell_type": "code",
   "execution_count": 37,
   "id": "c0a4268f",
   "metadata": {
    "execution": {
     "iopub.execute_input": "2022-02-07T05:37:42.781506Z",
     "iopub.status.busy": "2022-02-07T05:37:42.780624Z",
     "iopub.status.idle": "2022-02-07T05:37:42.784112Z",
     "shell.execute_reply": "2022-02-07T05:37:42.784689Z",
     "shell.execute_reply.started": "2022-02-07T05:34:08.144602Z"
    },
    "papermill": {
     "duration": 0.106314,
     "end_time": "2022-02-07T05:37:42.784850",
     "exception": false,
     "start_time": "2022-02-07T05:37:42.678536",
     "status": "completed"
    },
    "tags": []
   },
   "outputs": [],
   "source": [
    "score_credit=[]\n",
    "p_value_credit=[]"
   ]
  },
  {
   "cell_type": "code",
   "execution_count": 38,
   "id": "ec16e2ee",
   "metadata": {
    "execution": {
     "iopub.execute_input": "2022-02-07T05:37:42.948663Z",
     "iopub.status.busy": "2022-02-07T05:37:42.947730Z",
     "iopub.status.idle": "2022-02-07T05:37:43.010779Z",
     "shell.execute_reply": "2022-02-07T05:37:43.009732Z",
     "shell.execute_reply.started": "2022-02-07T05:34:08.156552Z"
    },
    "papermill": {
     "duration": 0.142913,
     "end_time": "2022-02-07T05:37:43.010973",
     "exception": false,
     "start_time": "2022-02-07T05:37:42.868060",
     "status": "completed"
    },
    "tags": []
   },
   "outputs": [
    {
     "name": "stdout",
     "output_type": "stream",
     "text": [
      "Gender 0.3185030293367912 0.5725086612755466\n",
      "Married 0.3527760855571419 0.5525458465769815\n",
      "Dependents 4.430648610653929 0.21856032002293935\n",
      "Education 3.5323409947133433 0.060182759127637285\n",
      "Self_Employed 0.9506638020646636 0.32955038975852896\n",
      "Property_Area 0.6295949224510414 0.7299366997829737\n"
     ]
    }
   ],
   "source": [
    "for i in ['Gender', 'Married', 'Dependents', 'Education', 'Self_Employed',\n",
    "       'Property_Area']:\n",
    "    chi=pd.crosstab(data[i],data.Credit_History)\n",
    "    d,p=chi2(chi)\n",
    "    score_credit.append(d)\n",
    "    p_value_credit.append(p)\n",
    "    print(i,d,p)"
   ]
  },
  {
   "cell_type": "markdown",
   "id": "88f47287",
   "metadata": {
    "papermill": {
     "duration": 0.076333,
     "end_time": "2022-02-07T05:37:43.166240",
     "exception": false,
     "start_time": "2022-02-07T05:37:43.089907",
     "status": "completed"
    },
    "tags": []
   },
   "source": [
    "This Chi square test perform with respect to to credit history because we have to fill the missing value and we get to know education have very less p-value that's why we choose education to to predict the missing value of credit history."
   ]
  },
  {
   "cell_type": "code",
   "execution_count": 39,
   "id": "3f5cc179",
   "metadata": {
    "execution": {
     "iopub.execute_input": "2022-02-07T05:37:43.329045Z",
     "iopub.status.busy": "2022-02-07T05:37:43.328078Z",
     "iopub.status.idle": "2022-02-07T05:37:43.330588Z",
     "shell.execute_reply": "2022-02-07T05:37:43.331004Z",
     "shell.execute_reply.started": "2022-02-07T05:34:08.232048Z"
    },
    "papermill": {
     "duration": 0.086643,
     "end_time": "2022-02-07T05:37:43.331198",
     "exception": false,
     "start_time": "2022-02-07T05:37:43.244555",
     "status": "completed"
    },
    "tags": []
   },
   "outputs": [],
   "source": [
    "df.Education=df.Education.map({'Graduate':1,'Not Graduate':0})"
   ]
  },
  {
   "cell_type": "code",
   "execution_count": 40,
   "id": "13d9b48f",
   "metadata": {
    "execution": {
     "iopub.execute_input": "2022-02-07T05:37:43.493016Z",
     "iopub.status.busy": "2022-02-07T05:37:43.492428Z",
     "iopub.status.idle": "2022-02-07T05:37:43.684516Z",
     "shell.execute_reply": "2022-02-07T05:37:43.683942Z",
     "shell.execute_reply.started": "2022-02-07T05:34:08.238882Z"
    },
    "papermill": {
     "duration": 0.273553,
     "end_time": "2022-02-07T05:37:43.684674",
     "exception": false,
     "start_time": "2022-02-07T05:37:43.411121",
     "status": "completed"
    },
    "tags": []
   },
   "outputs": [],
   "source": [
    "from sklearn.impute import KNNImputer\n",
    "knn=KNNImputer(n_neighbors=3)\n",
    "df=knn.fit_transform(df[['Education','Credit_History']])\n"
   ]
  },
  {
   "cell_type": "code",
   "execution_count": 41,
   "id": "7fd6ba31",
   "metadata": {
    "execution": {
     "iopub.execute_input": "2022-02-07T05:37:43.846202Z",
     "iopub.status.busy": "2022-02-07T05:37:43.844199Z",
     "iopub.status.idle": "2022-02-07T05:37:43.848452Z",
     "shell.execute_reply": "2022-02-07T05:37:43.847926Z",
     "shell.execute_reply.started": "2022-02-07T05:34:08.453967Z"
    },
    "papermill": {
     "duration": 0.08428,
     "end_time": "2022-02-07T05:37:43.848584",
     "exception": false,
     "start_time": "2022-02-07T05:37:43.764304",
     "status": "completed"
    },
    "tags": []
   },
   "outputs": [],
   "source": [
    "df=pd.DataFrame(df,columns=['Education','Credit_History'])"
   ]
  },
  {
   "cell_type": "code",
   "execution_count": 42,
   "id": "337f1389",
   "metadata": {
    "execution": {
     "iopub.execute_input": "2022-02-07T05:37:44.010905Z",
     "iopub.status.busy": "2022-02-07T05:37:44.010098Z",
     "iopub.status.idle": "2022-02-07T05:37:44.012794Z",
     "shell.execute_reply": "2022-02-07T05:37:44.012318Z",
     "shell.execute_reply.started": "2022-02-07T05:34:08.461870Z"
    },
    "papermill": {
     "duration": 0.085367,
     "end_time": "2022-02-07T05:37:44.012979",
     "exception": false,
     "start_time": "2022-02-07T05:37:43.927612",
     "status": "completed"
    },
    "tags": []
   },
   "outputs": [],
   "source": [
    "data.drop(['Education','Credit_History'],axis=1,inplace=True)"
   ]
  },
  {
   "cell_type": "code",
   "execution_count": 43,
   "id": "0a91614d",
   "metadata": {
    "execution": {
     "iopub.execute_input": "2022-02-07T05:37:44.173153Z",
     "iopub.status.busy": "2022-02-07T05:37:44.172425Z",
     "iopub.status.idle": "2022-02-07T05:37:44.174997Z",
     "shell.execute_reply": "2022-02-07T05:37:44.174548Z",
     "shell.execute_reply.started": "2022-02-07T05:34:08.473735Z"
    },
    "papermill": {
     "duration": 0.083274,
     "end_time": "2022-02-07T05:37:44.175143",
     "exception": false,
     "start_time": "2022-02-07T05:37:44.091869",
     "status": "completed"
    },
    "tags": []
   },
   "outputs": [],
   "source": [
    "df.index=data.index"
   ]
  },
  {
   "cell_type": "code",
   "execution_count": 44,
   "id": "147b58d6",
   "metadata": {
    "execution": {
     "iopub.execute_input": "2022-02-07T05:37:44.334703Z",
     "iopub.status.busy": "2022-02-07T05:37:44.333986Z",
     "iopub.status.idle": "2022-02-07T05:37:44.336118Z",
     "shell.execute_reply": "2022-02-07T05:37:44.336601Z",
     "shell.execute_reply.started": "2022-02-07T05:34:08.484060Z"
    },
    "papermill": {
     "duration": 0.084727,
     "end_time": "2022-02-07T05:37:44.336767",
     "exception": false,
     "start_time": "2022-02-07T05:37:44.252040",
     "status": "completed"
    },
    "tags": []
   },
   "outputs": [],
   "source": [
    "data=pd.concat((data,df),axis=1)"
   ]
  },
  {
   "cell_type": "code",
   "execution_count": 45,
   "id": "1126bdc5",
   "metadata": {
    "execution": {
     "iopub.execute_input": "2022-02-07T05:37:44.496921Z",
     "iopub.status.busy": "2022-02-07T05:37:44.496171Z",
     "iopub.status.idle": "2022-02-07T05:37:44.499712Z",
     "shell.execute_reply": "2022-02-07T05:37:44.499227Z",
     "shell.execute_reply.started": "2022-02-07T05:34:08.496087Z"
    },
    "papermill": {
     "duration": 0.085449,
     "end_time": "2022-02-07T05:37:44.499842",
     "exception": false,
     "start_time": "2022-02-07T05:37:44.414393",
     "status": "completed"
    },
    "tags": []
   },
   "outputs": [
    {
     "data": {
      "text/plain": [
       "(981, 12)"
      ]
     },
     "execution_count": 45,
     "metadata": {},
     "output_type": "execute_result"
    }
   ],
   "source": [
    "data.shape"
   ]
  },
  {
   "cell_type": "code",
   "execution_count": 46,
   "id": "11643680",
   "metadata": {
    "execution": {
     "iopub.execute_input": "2022-02-07T05:37:44.663258Z",
     "iopub.status.busy": "2022-02-07T05:37:44.662551Z",
     "iopub.status.idle": "2022-02-07T05:37:44.665062Z",
     "shell.execute_reply": "2022-02-07T05:37:44.664640Z",
     "shell.execute_reply.started": "2022-02-07T05:34:08.510526Z"
    },
    "papermill": {
     "duration": 0.085688,
     "end_time": "2022-02-07T05:37:44.665248",
     "exception": false,
     "start_time": "2022-02-07T05:37:44.579560",
     "status": "completed"
    },
    "tags": []
   },
   "outputs": [],
   "source": [
    "data.drop(['Loan_ID'],axis=1,inplace=True)"
   ]
  },
  {
   "cell_type": "code",
   "execution_count": 47,
   "id": "bd90d075",
   "metadata": {
    "execution": {
     "iopub.execute_input": "2022-02-07T05:37:44.827805Z",
     "iopub.status.busy": "2022-02-07T05:37:44.827041Z",
     "iopub.status.idle": "2022-02-07T05:37:44.830051Z",
     "shell.execute_reply": "2022-02-07T05:37:44.830523Z",
     "shell.execute_reply.started": "2022-02-07T05:34:08.519925Z"
    },
    "papermill": {
     "duration": 0.087948,
     "end_time": "2022-02-07T05:37:44.830696",
     "exception": false,
     "start_time": "2022-02-07T05:37:44.742748",
     "status": "completed"
    },
    "tags": []
   },
   "outputs": [
    {
     "data": {
      "text/plain": [
       "Gender                0\n",
       "Married               0\n",
       "Dependents            0\n",
       "Self_Employed         0\n",
       "ApplicantIncome       0\n",
       "CoapplicantIncome     0\n",
       "LoanAmount           27\n",
       "Loan_Amount_Term     20\n",
       "Property_Area         0\n",
       "Education             0\n",
       "Credit_History        0\n",
       "dtype: int64"
      ]
     },
     "execution_count": 47,
     "metadata": {},
     "output_type": "execute_result"
    }
   ],
   "source": [
    "data.isnull().sum()"
   ]
  },
  {
   "cell_type": "code",
   "execution_count": 48,
   "id": "02330fe4",
   "metadata": {
    "execution": {
     "iopub.execute_input": "2022-02-07T05:37:44.996535Z",
     "iopub.status.busy": "2022-02-07T05:37:44.995816Z",
     "iopub.status.idle": "2022-02-07T05:37:44.998224Z",
     "shell.execute_reply": "2022-02-07T05:37:44.997645Z",
     "shell.execute_reply.started": "2022-02-07T05:34:08.536561Z"
    },
    "papermill": {
     "duration": 0.088749,
     "end_time": "2022-02-07T05:37:44.998361",
     "exception": false,
     "start_time": "2022-02-07T05:37:44.909612",
     "status": "completed"
    },
    "tags": []
   },
   "outputs": [],
   "source": [
    "median=data.LoanAmount.median()\n",
    "data.LoanAmount.fillna(median,inplace=True)\n",
    "data.Loan_Amount_Term.fillna(data.Loan_Amount_Term.mode()[0],inplace=True)"
   ]
  },
  {
   "cell_type": "code",
   "execution_count": 49,
   "id": "e2199429",
   "metadata": {
    "execution": {
     "iopub.execute_input": "2022-02-07T05:37:45.168496Z",
     "iopub.status.busy": "2022-02-07T05:37:45.167579Z",
     "iopub.status.idle": "2022-02-07T05:37:45.171424Z",
     "shell.execute_reply": "2022-02-07T05:37:45.170836Z",
     "shell.execute_reply.started": "2022-02-07T05:34:08.543632Z"
    },
    "papermill": {
     "duration": 0.092019,
     "end_time": "2022-02-07T05:37:45.171571",
     "exception": false,
     "start_time": "2022-02-07T05:37:45.079552",
     "status": "completed"
    },
    "tags": []
   },
   "outputs": [
    {
     "data": {
      "text/plain": [
       "Gender               0\n",
       "Married              0\n",
       "Dependents           0\n",
       "Self_Employed        0\n",
       "ApplicantIncome      0\n",
       "CoapplicantIncome    0\n",
       "LoanAmount           0\n",
       "Loan_Amount_Term     0\n",
       "Property_Area        0\n",
       "Education            0\n",
       "Credit_History       0\n",
       "dtype: int64"
      ]
     },
     "execution_count": 49,
     "metadata": {},
     "output_type": "execute_result"
    }
   ],
   "source": [
    "data.isnull().sum()"
   ]
  },
  {
   "cell_type": "code",
   "execution_count": 50,
   "id": "6f172265",
   "metadata": {
    "execution": {
     "iopub.execute_input": "2022-02-07T05:37:45.362627Z",
     "iopub.status.busy": "2022-02-07T05:37:45.360714Z",
     "iopub.status.idle": "2022-02-07T05:37:46.511506Z",
     "shell.execute_reply": "2022-02-07T05:37:46.511009Z",
     "shell.execute_reply.started": "2022-02-07T05:34:08.560323Z"
    },
    "papermill": {
     "duration": 1.259026,
     "end_time": "2022-02-07T05:37:46.511648",
     "exception": false,
     "start_time": "2022-02-07T05:37:45.252622",
     "status": "completed"
    },
    "tags": []
   },
   "outputs": [
    {
     "data": {
      "text/plain": [
       "array([[<AxesSubplot:title={'center':'ApplicantIncome'}>,\n",
       "        <AxesSubplot:title={'center':'CoapplicantIncome'}>],\n",
       "       [<AxesSubplot:title={'center':'LoanAmount'}>,\n",
       "        <AxesSubplot:title={'center':'Loan_Amount_Term'}>],\n",
       "       [<AxesSubplot:title={'center':'Education'}>,\n",
       "        <AxesSubplot:title={'center':'Credit_History'}>]], dtype=object)"
      ]
     },
     "execution_count": 50,
     "metadata": {},
     "output_type": "execute_result"
    },
    {
     "data": {
      "image/png": "[encoded data removed]",
      "text/plain": [
       "<Figure size 720x648 with 6 Axes>"
      ]
     },
     "metadata": {
      "needs_background": "light"
     },
     "output_type": "display_data"
    }
   ],
   "source": [
    "data.hist(bins=30,figsize=(10,9))"
   ]
  },
  {
   "cell_type": "code",
   "execution_count": 51,
   "id": "f7735afc",
   "metadata": {
    "execution": {
     "iopub.execute_input": "2022-02-07T05:37:46.675824Z",
     "iopub.status.busy": "2022-02-07T05:37:46.675250Z",
     "iopub.status.idle": "2022-02-07T05:37:46.677562Z",
     "shell.execute_reply": "2022-02-07T05:37:46.677123Z",
     "shell.execute_reply.started": "2022-02-07T05:34:09.940870Z"
    },
    "papermill": {
     "duration": 0.085924,
     "end_time": "2022-02-07T05:37:46.677691",
     "exception": false,
     "start_time": "2022-02-07T05:37:46.591767",
     "status": "completed"
    },
    "tags": []
   },
   "outputs": [],
   "source": [
    "x_train=data.iloc[:614,:]\n",
    "x_test=data.iloc[614:,:]"
   ]
  },
  {
   "cell_type": "code",
   "execution_count": 52,
   "id": "0e957a5d",
   "metadata": {
    "execution": {
     "iopub.execute_input": "2022-02-07T05:37:46.851550Z",
     "iopub.status.busy": "2022-02-07T05:37:46.849960Z",
     "iopub.status.idle": "2022-02-07T05:37:46.913886Z",
     "shell.execute_reply": "2022-02-07T05:37:46.913299Z",
     "shell.execute_reply.started": "2022-02-07T05:34:09.946923Z"
    },
    "papermill": {
     "duration": 0.156828,
     "end_time": "2022-02-07T05:37:46.914057",
     "exception": false,
     "start_time": "2022-02-07T05:37:46.757229",
     "status": "completed"
    },
    "tags": []
   },
   "outputs": [
    {
     "name": "stdout",
     "output_type": "stream",
     "text": [
      "Gender 0.11087854691241235 0.7391461310869638\n",
      "Married 4.73187557933362 0.029608580862582116\n",
      "Dependents 3.1513990012324227 0.3688663081366005\n",
      "Education 4.091490413303622 0.04309962129357353\n",
      "Self_Employed 0.0 1.0\n",
      "Property_Area 12.297623130485675 0.0021360187811644937\n",
      "Credit_History 176.1145746235241 3.4183499979091188e-40\n"
     ]
    }
   ],
   "source": [
    "for i in ['Gender', 'Married', 'Dependents', 'Education', 'Self_Employed',\n",
    "       'Property_Area','Credit_History']:\n",
    "    chi=pd.crosstab(x_train[i],train.Loan_Status)\n",
    "    d,p=chi2(chi)\n",
    "    score.append(d)\n",
    "    p_value.append(p)\n",
    "    print(i,d,p)"
   ]
  },
  {
   "cell_type": "markdown",
   "id": "ad827bfc",
   "metadata": {
    "papermill": {
     "duration": 0.081304,
     "end_time": "2022-02-07T05:37:47.076929",
     "exception": false,
     "start_time": "2022-02-07T05:37:46.995625",
     "status": "completed"
    },
    "tags": []
   },
   "source": [
    "As we can see here after filling the missing value of of all the variable the  P value doesn't change much."
   ]
  },
  {
   "cell_type": "markdown",
   "id": "bdc4741c",
   "metadata": {
    "papermill": {
     "duration": 0.079853,
     "end_time": "2022-02-07T05:37:47.237144",
     "exception": false,
     "start_time": "2022-02-07T05:37:47.157291",
     "status": "completed"
    },
    "tags": []
   },
   "source": [
    "# Dummies"
   ]
  },
  {
   "cell_type": "code",
   "execution_count": 53,
   "id": "53c3dfcf",
   "metadata": {
    "execution": {
     "iopub.execute_input": "2022-02-07T05:37:47.400076Z",
     "iopub.status.busy": "2022-02-07T05:37:47.399382Z",
     "iopub.status.idle": "2022-02-07T05:37:47.420349Z",
     "shell.execute_reply": "2022-02-07T05:37:47.420845Z",
     "shell.execute_reply.started": "2022-02-07T05:34:10.030979Z"
    },
    "papermill": {
     "duration": 0.104003,
     "end_time": "2022-02-07T05:37:47.421011",
     "exception": false,
     "start_time": "2022-02-07T05:37:47.317008",
     "status": "completed"
    },
    "tags": []
   },
   "outputs": [],
   "source": [
    "cat=x_train.select_dtypes(include=['object'])\n",
    "num=x_train.select_dtypes(exclude=['object'])\n",
    "cat_train=pd.get_dummies(cat,drop_first=True)\n",
    "x_train=pd.concat((num,cat_train),axis=1)\n",
    "cat1=x_test.select_dtypes(include=['object'])\n",
    "num1=x_test.select_dtypes(exclude=['object'])\n",
    "cat_test=pd.get_dummies(cat1,drop_first=True)\n",
    "x_test=pd.concat((num1,cat_test),axis=1)"
   ]
  },
  {
   "cell_type": "code",
   "execution_count": 54,
   "id": "8d14a00a",
   "metadata": {
    "execution": {
     "iopub.execute_input": "2022-02-07T05:37:47.585927Z",
     "iopub.status.busy": "2022-02-07T05:37:47.585382Z",
     "iopub.status.idle": "2022-02-07T05:37:47.590686Z",
     "shell.execute_reply": "2022-02-07T05:37:47.590222Z",
     "shell.execute_reply.started": "2022-02-07T05:34:10.059295Z"
    },
    "papermill": {
     "duration": 0.089592,
     "end_time": "2022-02-07T05:37:47.590816",
     "exception": false,
     "start_time": "2022-02-07T05:37:47.501224",
     "status": "completed"
    },
    "tags": []
   },
   "outputs": [
    {
     "data": {
      "text/plain": [
       "(614, 14)"
      ]
     },
     "execution_count": 54,
     "metadata": {},
     "output_type": "execute_result"
    }
   ],
   "source": [
    "x_train.shape"
   ]
  },
  {
   "cell_type": "code",
   "execution_count": 55,
   "id": "d13a6f43",
   "metadata": {
    "execution": {
     "iopub.execute_input": "2022-02-07T05:37:47.756896Z",
     "iopub.status.busy": "2022-02-07T05:37:47.756302Z",
     "iopub.status.idle": "2022-02-07T05:37:47.758895Z",
     "shell.execute_reply": "2022-02-07T05:37:47.758471Z",
     "shell.execute_reply.started": "2022-02-07T05:34:10.065825Z"
    },
    "papermill": {
     "duration": 0.086368,
     "end_time": "2022-02-07T05:37:47.759025",
     "exception": false,
     "start_time": "2022-02-07T05:37:47.672657",
     "status": "completed"
    },
    "tags": []
   },
   "outputs": [],
   "source": [
    "y=train.Loan_Status"
   ]
  },
  {
   "cell_type": "code",
   "execution_count": 56,
   "id": "da8c95e6",
   "metadata": {
    "execution": {
     "iopub.execute_input": "2022-02-07T05:37:47.926250Z",
     "iopub.status.busy": "2022-02-07T05:37:47.925435Z",
     "iopub.status.idle": "2022-02-07T05:37:47.929194Z",
     "shell.execute_reply": "2022-02-07T05:37:47.928598Z",
     "shell.execute_reply.started": "2022-02-07T05:34:10.077195Z"
    },
    "papermill": {
     "duration": 0.090411,
     "end_time": "2022-02-07T05:37:47.929332",
     "exception": false,
     "start_time": "2022-02-07T05:37:47.838921",
     "status": "completed"
    },
    "tags": []
   },
   "outputs": [
    {
     "data": {
      "text/plain": [
       "0      1\n",
       "1      0\n",
       "2      1\n",
       "3      1\n",
       "4      1\n",
       "      ..\n",
       "609    1\n",
       "610    1\n",
       "611    1\n",
       "612    1\n",
       "613    0\n",
       "Name: Loan_Status, Length: 614, dtype: int64"
      ]
     },
     "execution_count": 56,
     "metadata": {},
     "output_type": "execute_result"
    }
   ],
   "source": [
    "y"
   ]
  },
  {
   "cell_type": "code",
   "execution_count": 57,
   "id": "3d7841ea",
   "metadata": {
    "execution": {
     "iopub.execute_input": "2022-02-07T05:37:48.098814Z",
     "iopub.status.busy": "2022-02-07T05:37:48.097912Z",
     "iopub.status.idle": "2022-02-07T05:37:48.101647Z",
     "shell.execute_reply": "2022-02-07T05:37:48.102121Z",
     "shell.execute_reply.started": "2022-02-07T05:34:10.090520Z"
    },
    "papermill": {
     "duration": 0.090779,
     "end_time": "2022-02-07T05:37:48.102316",
     "exception": false,
     "start_time": "2022-02-07T05:37:48.011537",
     "status": "completed"
    },
    "tags": []
   },
   "outputs": [],
   "source": [
    "element=x_train.columns"
   ]
  },
  {
   "cell_type": "markdown",
   "id": "5b86aaa0",
   "metadata": {
    "papermill": {
     "duration": 0.080919,
     "end_time": "2022-02-07T05:37:48.264830",
     "exception": false,
     "start_time": "2022-02-07T05:37:48.183911",
     "status": "completed"
    },
    "tags": []
   },
   "source": [
    "# Model building"
   ]
  },
  {
   "cell_type": "code",
   "execution_count": 58,
   "id": "c4823f46",
   "metadata": {
    "execution": {
     "iopub.execute_input": "2022-02-07T05:37:48.432317Z",
     "iopub.status.busy": "2022-02-07T05:37:48.431334Z",
     "iopub.status.idle": "2022-02-07T05:37:49.089816Z",
     "shell.execute_reply": "2022-02-07T05:37:49.090347Z",
     "shell.execute_reply.started": "2022-02-07T05:34:10.100949Z"
    },
    "papermill": {
     "duration": 0.744339,
     "end_time": "2022-02-07T05:37:49.090520",
     "exception": false,
     "start_time": "2022-02-07T05:37:48.346181",
     "status": "completed"
    },
    "tags": []
   },
   "outputs": [],
   "source": [
    "from sklearn.model_selection import cross_val_score\n",
    "from sklearn.preprocessing import StandardScaler as ss\n",
    "from statsmodels import api\n",
    "import statsmodels as sm\n",
    "from sklearn import metrics as m"
   ]
  },
  {
   "cell_type": "markdown",
   "id": "1fc2d294",
   "metadata": {
    "papermill": {
     "duration": 0.07939,
     "end_time": "2022-02-07T05:37:49.250097",
     "exception": false,
     "start_time": "2022-02-07T05:37:49.170707",
     "status": "completed"
    },
    "tags": []
   },
   "source": [
    "# Normalisation"
   ]
  },
  {
   "cell_type": "code",
   "execution_count": 59,
   "id": "c7f78d8e",
   "metadata": {
    "execution": {
     "iopub.execute_input": "2022-02-07T05:37:49.416423Z",
     "iopub.status.busy": "2022-02-07T05:37:49.415413Z",
     "iopub.status.idle": "2022-02-07T05:37:49.424903Z",
     "shell.execute_reply": "2022-02-07T05:37:49.424341Z",
     "shell.execute_reply.started": "2022-02-07T05:34:10.796182Z"
    },
    "papermill": {
     "duration": 0.095667,
     "end_time": "2022-02-07T05:37:49.425045",
     "exception": false,
     "start_time": "2022-02-07T05:37:49.329378",
     "status": "completed"
    },
    "tags": []
   },
   "outputs": [],
   "source": [
    "stan=ss()\n",
    "x_train=stan.fit_transform(x_train)\n",
    "x_test=stan.fit_transform(x_test)"
   ]
  },
  {
   "cell_type": "code",
   "execution_count": 60,
   "id": "aceafb88",
   "metadata": {
    "execution": {
     "iopub.execute_input": "2022-02-07T05:37:49.592031Z",
     "iopub.status.busy": "2022-02-07T05:37:49.591337Z",
     "iopub.status.idle": "2022-02-07T05:37:49.593941Z",
     "shell.execute_reply": "2022-02-07T05:37:49.594449Z",
     "shell.execute_reply.started": "2022-02-07T05:34:10.814751Z"
    },
    "papermill": {
     "duration": 0.087985,
     "end_time": "2022-02-07T05:37:49.594615",
     "exception": false,
     "start_time": "2022-02-07T05:37:49.506630",
     "status": "completed"
    },
    "tags": []
   },
   "outputs": [],
   "source": [
    "x_train=api.add_constant(x_train)"
   ]
  },
  {
   "cell_type": "code",
   "execution_count": 61,
   "id": "cfe12801",
   "metadata": {
    "execution": {
     "iopub.execute_input": "2022-02-07T05:37:49.763071Z",
     "iopub.status.busy": "2022-02-07T05:37:49.762480Z",
     "iopub.status.idle": "2022-02-07T05:37:49.765063Z",
     "shell.execute_reply": "2022-02-07T05:37:49.765553Z",
     "shell.execute_reply.started": "2022-02-07T05:34:10.821312Z"
    },
    "papermill": {
     "duration": 0.087833,
     "end_time": "2022-02-07T05:37:49.765709",
     "exception": false,
     "start_time": "2022-02-07T05:37:49.677876",
     "status": "completed"
    },
    "tags": []
   },
   "outputs": [],
   "source": [
    "x_test=api.add_constant(x_test)"
   ]
  },
  {
   "cell_type": "code",
   "execution_count": 62,
   "id": "51fad121",
   "metadata": {
    "execution": {
     "iopub.execute_input": "2022-02-07T05:37:49.929317Z",
     "iopub.status.busy": "2022-02-07T05:37:49.928717Z",
     "iopub.status.idle": "2022-02-07T05:37:49.942644Z",
     "shell.execute_reply": "2022-02-07T05:37:49.943531Z",
     "shell.execute_reply.started": "2022-02-07T05:34:10.831533Z"
    },
    "papermill": {
     "duration": 0.098314,
     "end_time": "2022-02-07T05:37:49.943818",
     "exception": false,
     "start_time": "2022-02-07T05:37:49.845504",
     "status": "completed"
    },
    "tags": []
   },
   "outputs": [],
   "source": [
    "MODEL=sm.api.GLM(np.asarray(y),x_train,family=sm.api.families.Binomial())"
   ]
  },
  {
   "cell_type": "code",
   "execution_count": 63,
   "id": "4cd5f06a",
   "metadata": {
    "execution": {
     "iopub.execute_input": "2022-02-07T05:37:50.164089Z",
     "iopub.status.busy": "2022-02-07T05:37:50.162994Z",
     "iopub.status.idle": "2022-02-07T05:37:50.178993Z",
     "shell.execute_reply": "2022-02-07T05:37:50.179853Z",
     "shell.execute_reply.started": "2022-02-07T05:34:10.848649Z"
    },
    "papermill": {
     "duration": 0.101043,
     "end_time": "2022-02-07T05:37:50.180113",
     "exception": false,
     "start_time": "2022-02-07T05:37:50.079070",
     "status": "completed"
    },
    "tags": []
   },
   "outputs": [],
   "source": [
    "log=MODEL.fit()"
   ]
  },
  {
   "cell_type": "code",
   "execution_count": 64,
   "id": "b1b12aea",
   "metadata": {
    "execution": {
     "iopub.execute_input": "2022-02-07T05:37:50.403412Z",
     "iopub.status.busy": "2022-02-07T05:37:50.400668Z",
     "iopub.status.idle": "2022-02-07T05:37:50.419198Z",
     "shell.execute_reply": "2022-02-07T05:37:50.419698Z",
     "shell.execute_reply.started": "2022-02-07T05:34:10.876634Z"
    },
    "papermill": {
     "duration": 0.101313,
     "end_time": "2022-02-07T05:37:50.419861",
     "exception": false,
     "start_time": "2022-02-07T05:37:50.318548",
     "status": "completed"
    },
    "tags": []
   },
   "outputs": [
    {
     "data": {
      "text/html": [
       "<table class=\"simpletable\">\n",
       "<caption>Generalized Linear Model Regression Results</caption>\n",
       "<tr>\n",
       "  <th>Dep. Variable:</th>           <td>y</td>        <th>  No. Observations:  </th>  <td>   614</td> \n",
       "</tr>\n",
       "<tr>\n",
       "  <th>Model:</th>                  <td>GLM</td>       <th>  Df Residuals:      </th>  <td>   599</td> \n",
       "</tr>\n",
       "<tr>\n",
       "  <th>Model Family:</th>        <td>Binomial</td>     <th>  Df Model:          </th>  <td>    14</td> \n",
       "</tr>\n",
       "<tr>\n",
       "  <th>Link Function:</th>         <td>Logit</td>      <th>  Scale:             </th> <td>  1.0000</td>\n",
       "</tr>\n",
       "<tr>\n",
       "  <th>Method:</th>                <td>IRLS</td>       <th>  Log-Likelihood:    </th> <td> -278.74</td>\n",
       "</tr>\n",
       "<tr>\n",
       "  <th>Date:</th>            <td>Mon, 07 Feb 2022</td> <th>  Deviance:          </th> <td>  557.48</td>\n",
       "</tr>\n",
       "<tr>\n",
       "  <th>Time:</th>                <td>05:37:50</td>     <th>  Pearson chi2:      </th>  <td>  610.</td> \n",
       "</tr>\n",
       "<tr>\n",
       "  <th>No. Iterations:</th>          <td>5</td>        <th>  Pseudo R-squ. (CS):</th>  <td>0.2843</td> \n",
       "</tr>\n",
       "<tr>\n",
       "  <th>Covariance Type:</th>     <td>nonrobust</td>    <th>                     </th>     <td> </td>   \n",
       "</tr>\n",
       "</table>\n",
       "<table class=\"simpletable\">\n",
       "<tr>\n",
       "    <td></td>       <th>coef</th>     <th>std err</th>      <th>z</th>      <th>P>|z|</th>  <th>[0.025</th>    <th>0.975]</th>  \n",
       "</tr>\n",
       "<tr>\n",
       "  <th>const</th> <td>    0.8432</td> <td>    0.113</td> <td>    7.453</td> <td> 0.000</td> <td>    0.621</td> <td>    1.065</td>\n",
       "</tr>\n",
       "<tr>\n",
       "  <th>x1</th>    <td>    0.0614</td> <td>    0.149</td> <td>    0.411</td> <td> 0.681</td> <td>   -0.231</td> <td>    0.354</td>\n",
       "</tr>\n",
       "<tr>\n",
       "  <th>x2</th>    <td>   -0.1575</td> <td>    0.103</td> <td>   -1.528</td> <td> 0.127</td> <td>   -0.360</td> <td>    0.045</td>\n",
       "</tr>\n",
       "<tr>\n",
       "  <th>x3</th>    <td>   -0.1465</td> <td>    0.135</td> <td>   -1.088</td> <td> 0.277</td> <td>   -0.411</td> <td>    0.117</td>\n",
       "</tr>\n",
       "<tr>\n",
       "  <th>x4</th>    <td>   -0.0817</td> <td>    0.118</td> <td>   -0.695</td> <td> 0.487</td> <td>   -0.312</td> <td>    0.149</td>\n",
       "</tr>\n",
       "<tr>\n",
       "  <th>x5</th>    <td>    0.1677</td> <td>    0.107</td> <td>    1.564</td> <td> 0.118</td> <td>   -0.042</td> <td>    0.378</td>\n",
       "</tr>\n",
       "<tr>\n",
       "  <th>x6</th>    <td>    1.3856</td> <td>    0.148</td> <td>    9.349</td> <td> 0.000</td> <td>    1.095</td> <td>    1.676</td>\n",
       "</tr>\n",
       "<tr>\n",
       "  <th>x7</th>    <td>   -0.0123</td> <td>    0.115</td> <td>   -0.107</td> <td> 0.915</td> <td>   -0.239</td> <td>    0.214</td>\n",
       "</tr>\n",
       "<tr>\n",
       "  <th>x8</th>    <td>    0.2766</td> <td>    0.120</td> <td>    2.300</td> <td> 0.021</td> <td>    0.041</td> <td>    0.512</td>\n",
       "</tr>\n",
       "<tr>\n",
       "  <th>x9</th>    <td>   -0.1758</td> <td>    0.110</td> <td>   -1.603</td> <td> 0.109</td> <td>   -0.391</td> <td>    0.039</td>\n",
       "</tr>\n",
       "<tr>\n",
       "  <th>x10</th>   <td>    0.1074</td> <td>    0.127</td> <td>    0.846</td> <td> 0.398</td> <td>   -0.142</td> <td>    0.356</td>\n",
       "</tr>\n",
       "<tr>\n",
       "  <th>x11</th>   <td>    0.0060</td> <td>    0.118</td> <td>    0.051</td> <td> 0.960</td> <td>   -0.224</td> <td>    0.236</td>\n",
       "</tr>\n",
       "<tr>\n",
       "  <th>x12</th>   <td>   -0.0089</td> <td>    0.108</td> <td>   -0.083</td> <td> 0.934</td> <td>   -0.220</td> <td>    0.202</td>\n",
       "</tr>\n",
       "<tr>\n",
       "  <th>x13</th>   <td>    0.4404</td> <td>    0.131</td> <td>    3.366</td> <td> 0.001</td> <td>    0.184</td> <td>    0.697</td>\n",
       "</tr>\n",
       "<tr>\n",
       "  <th>x14</th>   <td>    0.1042</td> <td>    0.122</td> <td>    0.854</td> <td> 0.393</td> <td>   -0.135</td> <td>    0.343</td>\n",
       "</tr>\n",
       "</table>"
      ],
      "text/plain": [
       "<class 'statsmodels.iolib.summary.Summary'>\n",
       "\"\"\"\n",
       "                 Generalized Linear Model Regression Results                  \n",
       "==============================================================================\n",
       "Dep. Variable:                      y   No. Observations:                  614\n",
       "Model:                            GLM   Df Residuals:                      599\n",
       "Model Family:                Binomial   Df Model:                           14\n",
       "Link Function:                  Logit   Scale:                          1.0000\n",
       "Method:                          IRLS   Log-Likelihood:                -278.74\n",
       "Date:                Mon, 07 Feb 2022   Deviance:                       557.48\n",
       "Time:                        05:37:50   Pearson chi2:                     610.\n",
       "No. Iterations:                     5   Pseudo R-squ. (CS):             0.2843\n",
       "Covariance Type:            nonrobust                                         \n",
       "==============================================================================\n",
       "                 coef    std err          z      P>|z|      [0.025      0.975]\n",
       "------------------------------------------------------------------------------\n",
       "const          0.8432      0.113      7.453      0.000       0.621       1.065\n",
       "x1             0.0614      0.149      0.411      0.681      -0.231       0.354\n",
       "x2            -0.1575      0.103     -1.528      0.127      -0.360       0.045\n",
       "x3            -0.1465      0.135     -1.088      0.277      -0.411       0.117\n",
       "x4            -0.0817      0.118     -0.695      0.487      -0.312       0.149\n",
       "x5             0.1677      0.107      1.564      0.118      -0.042       0.378\n",
       "x6             1.3856      0.148      9.349      0.000       1.095       1.676\n",
       "x7            -0.0123      0.115     -0.107      0.915      -0.239       0.214\n",
       "x8             0.2766      0.120      2.300      0.021       0.041       0.512\n",
       "x9            -0.1758      0.110     -1.603      0.109      -0.391       0.039\n",
       "x10            0.1074      0.127      0.846      0.398      -0.142       0.356\n",
       "x11            0.0060      0.118      0.051      0.960      -0.224       0.236\n",
       "x12           -0.0089      0.108     -0.083      0.934      -0.220       0.202\n",
       "x13            0.4404      0.131      3.366      0.001       0.184       0.697\n",
       "x14            0.1042      0.122      0.854      0.393      -0.135       0.343\n",
       "==============================================================================\n",
       "\"\"\""
      ]
     },
     "execution_count": 64,
     "metadata": {},
     "output_type": "execute_result"
    }
   ],
   "source": [
    "log.summary()"
   ]
  },
  {
   "cell_type": "markdown",
   "id": "a0f21292",
   "metadata": {
    "papermill": {
     "duration": 0.083129,
     "end_time": "2022-02-07T05:37:50.586849",
     "exception": false,
     "start_time": "2022-02-07T05:37:50.503720",
     "status": "completed"
    },
    "tags": []
   },
   "source": [
    "As in the summary of our model we can see that what is the coefficient of of each independent variable and the P value by the help of which we can get many information regarding predicting the loan status"
   ]
  },
  {
   "cell_type": "code",
   "execution_count": 65,
   "id": "493bfa00",
   "metadata": {
    "execution": {
     "iopub.execute_input": "2022-02-07T05:37:50.757272Z",
     "iopub.status.busy": "2022-02-07T05:37:50.756623Z",
     "iopub.status.idle": "2022-02-07T05:37:50.759524Z",
     "shell.execute_reply": "2022-02-07T05:37:50.759988Z",
     "shell.execute_reply.started": "2022-02-07T05:34:10.916061Z"
    },
    "papermill": {
     "duration": 0.089554,
     "end_time": "2022-02-07T05:37:50.760188",
     "exception": false,
     "start_time": "2022-02-07T05:37:50.670634",
     "status": "completed"
    },
    "tags": []
   },
   "outputs": [],
   "source": [
    "y_per=log.predict(x_train)"
   ]
  },
  {
   "cell_type": "code",
   "execution_count": 66,
   "id": "7918f07b",
   "metadata": {
    "execution": {
     "iopub.execute_input": "2022-02-07T05:37:50.926864Z",
     "iopub.status.busy": "2022-02-07T05:37:50.926264Z",
     "iopub.status.idle": "2022-02-07T05:37:50.935947Z",
     "shell.execute_reply": "2022-02-07T05:37:50.936453Z",
     "shell.execute_reply.started": "2022-02-07T05:34:10.923500Z"
    },
    "papermill": {
     "duration": 0.09404,
     "end_time": "2022-02-07T05:37:50.936632",
     "exception": false,
     "start_time": "2022-02-07T05:37:50.842592",
     "status": "completed"
    },
    "tags": []
   },
   "outputs": [
    {
     "data": {
      "text/plain": [
       "array([0.74226993, 0.69997688, 0.84403745, 0.74714247, 0.73752995,\n",
       "       0.80629851, 0.76312097, 0.14079509, 0.85253784, 0.71966841,\n",
       "       0.8767372 , 0.86121657, 0.79165364, 0.66007555, 0.91042604,\n",
       "       0.74087089, 0.58766721, 0.05827043, 0.72891787, 0.80795754,\n",
       "       0.06620847, 0.63065253, 0.10569064, 0.06071003, 0.83611359,\n",
       "       0.90223965, 0.89839214, 0.8142925 , 0.68267596, 0.87459174,\n",
       "       0.69789991, 0.75426162, 0.58917395, 0.90309176, 0.60458416,\n",
       "       0.81631266, 0.08597566, 0.90242691, 0.63442772, 0.77805556,\n",
       "       0.75312849, 0.74827414, 0.84463205, 0.8971159 , 0.77683599,\n",
       "       0.75608753, 0.78708885, 0.83302663, 0.07782325, 0.83240586,\n",
       "       0.86619404, 0.85295954, 0.85612343, 0.87014941, 0.04806872,\n",
       "       0.92893265, 0.90497545, 0.77865048, 0.7258355 , 0.78786754,\n",
       "       0.80394271, 0.84279876, 0.04701258, 0.04741122, 0.10339538,\n",
       "       0.8636152 , 0.03902136, 0.70921547, 0.83523278, 0.10032915,\n",
       "       0.79688318, 0.89008592, 0.86697138, 0.12426267, 0.89207922,\n",
       "       0.7124073 , 0.66676155, 0.7224319 , 0.13584655, 0.85382817,\n",
       "       0.85586216, 0.85707853, 0.85102484, 0.8768094 , 0.80729692,\n",
       "       0.82558464, 0.89305306, 0.90160013, 0.71883602, 0.88216469,\n",
       "       0.8938356 , 0.91938272, 0.81413211, 0.84982288, 0.85761588,\n",
       "       0.74406135, 0.89838111, 0.91407295, 0.89561414, 0.88933165,\n",
       "       0.82451722, 0.81528429, 0.84778935, 0.89278293, 0.82032354,\n",
       "       0.75550972, 0.85212714, 0.61190233, 0.08480713, 0.85384723,\n",
       "       0.73788516, 0.89831897, 0.03861312, 0.78462764, 0.85187841,\n",
       "       0.76097582, 0.896379  , 0.75511984, 0.7708936 , 0.71169715,\n",
       "       0.7644718 , 0.87004527, 0.06291745, 0.93484963, 0.68316863,\n",
       "       0.71168999, 0.76743492, 0.67428087, 0.05802754, 0.76554118,\n",
       "       0.52743325, 0.73222329, 0.8593171 , 0.94018734, 0.85517052,\n",
       "       0.83536044, 0.81896499, 0.85252619, 0.09091014, 0.76886015,\n",
       "       0.8151092 , 0.72715505, 0.86660534, 0.89937237, 0.89187965,\n",
       "       0.89327473, 0.89555652, 0.7709589 , 0.65637402, 0.90650298,\n",
       "       0.04386818, 0.75221815, 0.70795216, 0.78372847, 0.76209251,\n",
       "       0.136565  , 0.7082527 , 0.74975322, 0.66936136, 0.85617517,\n",
       "       0.86659766, 0.80220061, 0.10232207, 0.82579207, 0.87986077,\n",
       "       0.7553335 , 0.81161504, 0.76815169, 0.093541  , 0.92462871,\n",
       "       0.71691539, 0.76814117, 0.78852088, 0.87143873, 0.87051548,\n",
       "       0.78667127, 0.83546249, 0.0549298 , 0.86395644, 0.0290836 ,\n",
       "       0.03737656, 0.65167651, 0.93294225, 0.8699215 , 0.91415353,\n",
       "       0.91589383, 0.05346964, 0.79987371, 0.72713557, 0.82811244,\n",
       "       0.63557448, 0.85057685, 0.76413059, 0.85943893, 0.69629557,\n",
       "       0.83326433, 0.63472059, 0.6287826 , 0.90050814, 0.761029  ,\n",
       "       0.79275049, 0.12113731, 0.81217029, 0.65989848, 0.89956245,\n",
       "       0.79661849, 0.75834442, 0.59832022, 0.75780819, 0.84778118,\n",
       "       0.84073223, 0.15645171, 0.72332965, 0.73065268, 0.80690363,\n",
       "       0.87129304, 0.77678378, 0.90014958, 0.22513866, 0.92416063,\n",
       "       0.09810649, 0.92558284, 0.82241302, 0.90044177, 0.9109379 ,\n",
       "       0.78821188, 0.76395858, 0.91533566, 0.89144528, 0.66512728,\n",
       "       0.85146341, 0.85450434, 0.56798623, 0.82227823, 0.84616894,\n",
       "       0.68923753, 0.80423413, 0.74007521, 0.59852578, 0.8675005 ,\n",
       "       0.8096148 , 0.69509252, 0.74109204, 0.83833395, 0.84040361,\n",
       "       0.73864175, 0.87993406, 0.72658035, 0.82864605, 0.82640444,\n",
       "       0.08319357, 0.79151669, 0.57258623, 0.72971233, 0.05142805,\n",
       "       0.65400127, 0.02974721, 0.84687002, 0.74695444, 0.87296909,\n",
       "       0.64204362, 0.82812705, 0.83748807, 0.70926686, 0.84643311,\n",
       "       0.64312999, 0.92317426, 0.07962146, 0.69585387, 0.63785512,\n",
       "       0.77394431, 0.84220739, 0.66941428, 0.89383146, 0.93447078,\n",
       "       0.85081121, 0.87956337, 0.83498975, 0.86669325, 0.7366734 ,\n",
       "       0.01821201, 0.90775769, 0.89584284, 0.74739461, 0.82722588,\n",
       "       0.67015006, 0.85158402, 0.78552271, 0.85534615, 0.68274274,\n",
       "       0.77491582, 0.20785816, 0.85857509, 0.04597974, 0.88389962,\n",
       "       0.83294208, 0.8498655 , 0.76328514, 0.62866447, 0.72968073,\n",
       "       0.05497611, 0.86187831, 0.70031021, 0.74633942, 0.6588612 ,\n",
       "       0.64864084, 0.6772849 , 0.05006904, 0.58988944, 0.77139261,\n",
       "       0.86045364, 0.76935212, 0.72235782, 0.88061464, 0.77315865,\n",
       "       0.71136384, 0.93107651, 0.8252045 , 0.78653485, 0.71292204,\n",
       "       0.89955674, 0.91087328, 0.76718236, 0.66138767, 0.77335619,\n",
       "       0.02428132, 0.0424396 , 0.88899665, 0.82510199, 0.76111509,\n",
       "       0.62005349, 0.85358502, 0.75460806, 0.85948285, 0.77071064,\n",
       "       0.89572031, 0.69894866, 0.78781438, 0.03657637, 0.86462296,\n",
       "       0.69698238, 0.72558222, 0.65146428, 0.88120835, 0.82492944,\n",
       "       0.89082313, 0.04040163, 0.79866566, 0.86420416, 0.71939971,\n",
       "       0.8983761 , 0.58013049, 0.79387151, 0.0772594 , 0.90786015,\n",
       "       0.78834107, 0.81654594, 0.77721758, 0.05076919, 0.88490154,\n",
       "       0.79739566, 0.90171597, 0.81685054, 0.82879325, 0.68854535,\n",
       "       0.6038221 , 0.83339299, 0.04295222, 0.85465605, 0.62219933,\n",
       "       0.87788515, 0.92804882, 0.71597164, 0.03801389, 0.73260522,\n",
       "       0.86027806, 0.7670354 , 0.90905402, 0.72581107, 0.87180909,\n",
       "       0.89670043, 0.77206922, 0.73862957, 0.73910515, 0.87664649,\n",
       "       0.69307056, 0.76951576, 0.05212626, 0.81089769, 0.80457572,\n",
       "       0.68741668, 0.77129803, 0.81795212, 0.91157335, 0.86391593,\n",
       "       0.9273501 , 0.05856729, 0.83005129, 0.58666796, 0.09438768,\n",
       "       0.11170115, 0.64135866, 0.66200442, 0.81114962, 0.67677654,\n",
       "       0.85587185, 0.74757081, 0.62943325, 0.11627218, 0.10440561,\n",
       "       0.72359157, 0.82972993, 0.04382337, 0.70954869, 0.09214105,\n",
       "       0.76422518, 0.62839042, 0.64221183, 0.776171  , 0.9003515 ,\n",
       "       0.801534  , 0.03903219, 0.82506712, 0.05640144, 0.92184912,\n",
       "       0.76170112, 0.51383271, 0.931054  , 0.81071854, 0.72386312,\n",
       "       0.779508  , 0.04492479, 0.79047826, 0.8942045 , 0.74687433,\n",
       "       0.92763426, 0.85027889, 0.82371127, 0.04904424, 0.73276473,\n",
       "       0.79286374, 0.77639256, 0.76885706, 0.82439451, 0.7258461 ,\n",
       "       0.69471854, 0.78861698, 0.80898418, 0.08406559, 0.6486783 ,\n",
       "       0.06084618, 0.83148699, 0.06467828, 0.08359464, 0.85850209,\n",
       "       0.93380186, 0.83716264, 0.80170635, 0.74898463, 0.90807213,\n",
       "       0.8788071 , 0.87038889, 0.77268868, 0.70679839, 0.1033529 ,\n",
       "       0.6927593 , 0.07768161, 0.92140286, 0.88845609, 0.82045989,\n",
       "       0.83576715, 0.0369981 , 0.91528001, 0.74785932, 0.69195576,\n",
       "       0.84441316, 0.9185955 , 0.1880346 , 0.8679895 , 0.85973157,\n",
       "       0.59817665, 0.73644773, 0.89220744, 0.89902651, 0.91909576,\n",
       "       0.58892835, 0.05990698, 0.65478035, 0.91711933, 0.75256974,\n",
       "       0.76995138, 0.64331617, 0.60733214, 0.78335272, 0.0662642 ,\n",
       "       0.89991317, 0.71501294, 0.87438399, 0.86416305, 0.02993789,\n",
       "       0.61949201, 0.85736864, 0.89645506, 0.55328406, 0.86964356,\n",
       "       0.77579445, 0.69280317, 0.74787373, 0.78722975, 0.69883748,\n",
       "       0.59465941, 0.82204306, 0.85255873, 0.90499372, 0.57823938,\n",
       "       0.76640378, 0.91608028, 0.1055533 , 0.82138084, 0.62038234,\n",
       "       0.90193174, 0.86218837, 0.79887125, 0.66782826, 0.8346968 ,\n",
       "       0.78919168, 0.91146238, 0.06701827, 0.69399575, 0.79247567,\n",
       "       0.7140728 , 0.84423109, 0.0570507 , 0.76913584, 0.6863294 ,\n",
       "       0.57119076, 0.74764814, 0.88533073, 0.74216297, 0.83461237,\n",
       "       0.87238842, 0.10425467, 0.79165264, 0.64215133, 0.873033  ,\n",
       "       0.77389009, 0.85859648, 0.66224474, 0.10630975, 0.78675441,\n",
       "       0.09556612, 0.59312814, 0.7130639 , 0.04932419, 0.07219024,\n",
       "       0.87730126, 0.73948356, 0.89373813, 0.89073621, 0.89261761,\n",
       "       0.90067891, 0.76290228, 0.76113607, 0.78588358, 0.09906065,\n",
       "       0.7325457 , 0.7558601 , 0.06590446, 0.77879992, 0.08341268,\n",
       "       0.71973941, 0.07939824, 0.85541181, 0.86587313, 0.90969905,\n",
       "       0.90536143, 0.14484696, 0.71335817, 0.69351596, 0.69270118,\n",
       "       0.92298142, 0.32233458, 0.92317849, 0.73459333, 0.04069151,\n",
       "       0.73831535, 0.82628198, 0.80688472, 0.85671032, 0.20679326,\n",
       "       0.92145368, 0.93112655, 0.81529081, 0.80528653, 0.81492923,\n",
       "       0.60767275, 0.75392483, 0.10387048, 0.79216547, 0.85970943,\n",
       "       0.20575577, 0.6857438 , 0.83963908, 0.62296086, 0.78599044,\n",
       "       0.77237916, 0.83354324, 0.75986783, 0.78868401, 0.71788436,\n",
       "       0.85807506, 0.72203126, 0.86291707, 0.09870071])"
      ]
     },
     "execution_count": 66,
     "metadata": {},
     "output_type": "execute_result"
    }
   ],
   "source": [
    "y_per"
   ]
  },
  {
   "cell_type": "markdown",
   "id": "fb80a64f",
   "metadata": {
    "papermill": {
     "duration": 0.081015,
     "end_time": "2022-02-07T05:37:51.100423",
     "exception": false,
     "start_time": "2022-02-07T05:37:51.019408",
     "status": "completed"
    },
    "tags": []
   },
   "source": [
    "This model gives us result in probability so now we can put any threshold value according to higher Precision or higher recall.\n",
    "putting threshold value 0.5 and 0.6"
   ]
  },
  {
   "cell_type": "code",
   "execution_count": 67,
   "id": "8bb910f5",
   "metadata": {
    "execution": {
     "iopub.execute_input": "2022-02-07T05:37:51.267323Z",
     "iopub.status.busy": "2022-02-07T05:37:51.266666Z",
     "iopub.status.idle": "2022-02-07T05:37:51.269411Z",
     "shell.execute_reply": "2022-02-07T05:37:51.269932Z",
     "shell.execute_reply.started": "2022-02-07T05:34:10.951294Z"
    },
    "papermill": {
     "duration": 0.087474,
     "end_time": "2022-02-07T05:37:51.270087",
     "exception": false,
     "start_time": "2022-02-07T05:37:51.182613",
     "status": "completed"
    },
    "tags": []
   },
   "outputs": [],
   "source": [
    "y_per1=(y_per>0.5)"
   ]
  },
  {
   "cell_type": "code",
   "execution_count": 68,
   "id": "33f6d9a5",
   "metadata": {
    "execution": {
     "iopub.execute_input": "2022-02-07T05:37:51.435648Z",
     "iopub.status.busy": "2022-02-07T05:37:51.434888Z",
     "iopub.status.idle": "2022-02-07T05:37:51.438079Z",
     "shell.execute_reply": "2022-02-07T05:37:51.438595Z",
     "shell.execute_reply.started": "2022-02-07T05:34:10.958914Z"
    },
    "papermill": {
     "duration": 0.087141,
     "end_time": "2022-02-07T05:37:51.438756",
     "exception": false,
     "start_time": "2022-02-07T05:37:51.351615",
     "status": "completed"
    },
    "tags": []
   },
   "outputs": [],
   "source": [
    "y_per1=pd.DataFrame(y_per1)"
   ]
  },
  {
   "cell_type": "code",
   "execution_count": 69,
   "id": "f088d7dd",
   "metadata": {
    "execution": {
     "iopub.execute_input": "2022-02-07T05:37:51.606403Z",
     "iopub.status.busy": "2022-02-07T05:37:51.605080Z",
     "iopub.status.idle": "2022-02-07T05:37:51.616466Z",
     "shell.execute_reply": "2022-02-07T05:37:51.617304Z",
     "shell.execute_reply.started": "2022-02-07T05:34:10.969614Z"
    },
    "papermill": {
     "duration": 0.097758,
     "end_time": "2022-02-07T05:37:51.617527",
     "exception": false,
     "start_time": "2022-02-07T05:37:51.519769",
     "status": "completed"
    },
    "tags": []
   },
   "outputs": [
    {
     "name": "stdout",
     "output_type": "stream",
     "text": [
      "[[ 84   7]\n",
      " [108 415]]\n",
      "              precision    recall  f1-score   support\n",
      "\n",
      "           0       0.44      0.92      0.59        91\n",
      "           1       0.98      0.79      0.88       523\n",
      "\n",
      "    accuracy                           0.81       614\n",
      "   macro avg       0.71      0.86      0.74       614\n",
      "weighted avg       0.90      0.81      0.84       614\n",
      "\n"
     ]
    }
   ],
   "source": [
    "y_per1=y_per1*1\n",
    "print(m.confusion_matrix(y_per1,y))\n",
    "print(m.classification_report(y_per1,y))"
   ]
  },
  {
   "cell_type": "code",
   "execution_count": 70,
   "id": "d8075836",
   "metadata": {
    "execution": {
     "iopub.execute_input": "2022-02-07T05:37:51.784039Z",
     "iopub.status.busy": "2022-02-07T05:37:51.783482Z",
     "iopub.status.idle": "2022-02-07T05:37:51.786900Z",
     "shell.execute_reply": "2022-02-07T05:37:51.787456Z",
     "shell.execute_reply.started": "2022-02-07T05:34:10.994129Z"
    },
    "papermill": {
     "duration": 0.087272,
     "end_time": "2022-02-07T05:37:51.787612",
     "exception": false,
     "start_time": "2022-02-07T05:37:51.700340",
     "status": "completed"
    },
    "tags": []
   },
   "outputs": [],
   "source": [
    "y_per2=(y_per>0.6)"
   ]
  },
  {
   "cell_type": "code",
   "execution_count": 71,
   "id": "215d4645",
   "metadata": {
    "execution": {
     "iopub.execute_input": "2022-02-07T05:37:51.954319Z",
     "iopub.status.busy": "2022-02-07T05:37:51.953751Z",
     "iopub.status.idle": "2022-02-07T05:37:51.957164Z",
     "shell.execute_reply": "2022-02-07T05:37:51.957632Z",
     "shell.execute_reply.started": "2022-02-07T05:34:10.999801Z"
    },
    "papermill": {
     "duration": 0.087963,
     "end_time": "2022-02-07T05:37:51.957799",
     "exception": false,
     "start_time": "2022-02-07T05:37:51.869836",
     "status": "completed"
    },
    "tags": []
   },
   "outputs": [],
   "source": [
    "y_per2=pd.DataFrame(y_per2)"
   ]
  },
  {
   "cell_type": "code",
   "execution_count": 72,
   "id": "d14cdeb6",
   "metadata": {
    "execution": {
     "iopub.execute_input": "2022-02-07T05:37:52.126829Z",
     "iopub.status.busy": "2022-02-07T05:37:52.126224Z",
     "iopub.status.idle": "2022-02-07T05:37:52.135265Z",
     "shell.execute_reply": "2022-02-07T05:37:52.135795Z",
     "shell.execute_reply.started": "2022-02-07T05:34:11.010546Z"
    },
    "papermill": {
     "duration": 0.095442,
     "end_time": "2022-02-07T05:37:52.135956",
     "exception": false,
     "start_time": "2022-02-07T05:37:52.040514",
     "status": "completed"
    },
    "tags": []
   },
   "outputs": [
    {
     "name": "stdout",
     "output_type": "stream",
     "text": [
      "[[ 91  18]\n",
      " [101 404]]\n",
      "              precision    recall  f1-score   support\n",
      "\n",
      "           0       0.47      0.83      0.60       109\n",
      "           1       0.96      0.80      0.87       505\n",
      "\n",
      "    accuracy                           0.81       614\n",
      "   macro avg       0.72      0.82      0.74       614\n",
      "weighted avg       0.87      0.81      0.82       614\n",
      "\n"
     ]
    }
   ],
   "source": [
    "y_per2=y_per2*1\n",
    "print(m.confusion_matrix(y_per2,y))\n",
    "print(m.classification_report(y_per2,y))"
   ]
  },
  {
   "cell_type": "markdown",
   "id": "01d71840",
   "metadata": {
    "papermill": {
     "duration": 0.08115,
     "end_time": "2022-02-07T05:37:52.298817",
     "exception": false,
     "start_time": "2022-02-07T05:37:52.217667",
     "status": "completed"
    },
    "tags": []
   },
   "source": [
    "# For threshold value 0.5"
   ]
  },
  {
   "cell_type": "code",
   "execution_count": 73,
   "id": "8c9610b1",
   "metadata": {
    "execution": {
     "iopub.execute_input": "2022-02-07T05:37:52.465224Z",
     "iopub.status.busy": "2022-02-07T05:37:52.464616Z",
     "iopub.status.idle": "2022-02-07T05:37:52.468973Z",
     "shell.execute_reply": "2022-02-07T05:37:52.468517Z",
     "shell.execute_reply.started": "2022-02-07T05:34:11.028460Z"
    },
    "papermill": {
     "duration": 0.088744,
     "end_time": "2022-02-07T05:37:52.469105",
     "exception": false,
     "start_time": "2022-02-07T05:37:52.380361",
     "status": "completed"
    },
    "tags": []
   },
   "outputs": [],
   "source": [
    "pre1,rec1,thr1=m.precision_recall_curve(y,y_per1)"
   ]
  },
  {
   "cell_type": "code",
   "execution_count": 74,
   "id": "a33d7503",
   "metadata": {
    "execution": {
     "iopub.execute_input": "2022-02-07T05:37:52.635341Z",
     "iopub.status.busy": "2022-02-07T05:37:52.634724Z",
     "iopub.status.idle": "2022-02-07T05:37:52.638306Z",
     "shell.execute_reply": "2022-02-07T05:37:52.638748Z",
     "shell.execute_reply.started": "2022-02-07T05:34:11.036278Z"
    },
    "papermill": {
     "duration": 0.087944,
     "end_time": "2022-02-07T05:37:52.638902",
     "exception": false,
     "start_time": "2022-02-07T05:37:52.550958",
     "status": "completed"
    },
    "tags": []
   },
   "outputs": [],
   "source": [
    "def per(pre,rec,thr):\n",
    "    plt.plot(thr, pre[:-1], \"b--\", label=\"Precision\")\n",
    "    plt.plot(thr, rec[:-1], \"g-\", label=\"Recall\")\n"
   ]
  },
  {
   "cell_type": "code",
   "execution_count": 75,
   "id": "d7ceca90",
   "metadata": {
    "execution": {
     "iopub.execute_input": "2022-02-07T05:37:52.803827Z",
     "iopub.status.busy": "2022-02-07T05:37:52.803278Z",
     "iopub.status.idle": "2022-02-07T05:37:52.986990Z",
     "shell.execute_reply": "2022-02-07T05:37:52.986503Z",
     "shell.execute_reply.started": "2022-02-07T05:34:11.046268Z"
    },
    "papermill": {
     "duration": 0.266943,
     "end_time": "2022-02-07T05:37:52.987144",
     "exception": false,
     "start_time": "2022-02-07T05:37:52.720201",
     "status": "completed"
    },
    "tags": []
   },
   "outputs": [
    {
     "data": {
      "image/png": "[encoded data removed]",
      "text/plain": [
       "<Figure size 432x288 with 1 Axes>"
      ]
     },
     "metadata": {
      "needs_background": "light"
     },
     "output_type": "display_data"
    }
   ],
   "source": [
    "per(pre1,rec1,thr1)"
   ]
  },
  {
   "cell_type": "code",
   "execution_count": 76,
   "id": "314d0a60",
   "metadata": {
    "execution": {
     "iopub.execute_input": "2022-02-07T05:37:53.157599Z",
     "iopub.status.busy": "2022-02-07T05:37:53.156968Z",
     "iopub.status.idle": "2022-02-07T05:37:53.161669Z",
     "shell.execute_reply": "2022-02-07T05:37:53.162076Z",
     "shell.execute_reply.started": "2022-02-07T05:34:11.200688Z"
    },
    "papermill": {
     "duration": 0.091698,
     "end_time": "2022-02-07T05:37:53.162255",
     "exception": false,
     "start_time": "2022-02-07T05:37:53.070557",
     "status": "completed"
    },
    "tags": []
   },
   "outputs": [],
   "source": [
    "fpr,tpr,thr=m.roc_curve(y_per1,y)\n",
    "def plot_roc_curve(fpr, tpr, label=None):\n",
    "     plt.plot(fpr, tpr, linewidth=2, label=label)\n",
    "     plt.plot([0, 1], [0, 1], 'k--')"
   ]
  },
  {
   "cell_type": "code",
   "execution_count": 77,
   "id": "eb018173",
   "metadata": {
    "execution": {
     "iopub.execute_input": "2022-02-07T05:37:53.329620Z",
     "iopub.status.busy": "2022-02-07T05:37:53.329029Z",
     "iopub.status.idle": "2022-02-07T05:37:53.516676Z",
     "shell.execute_reply": "2022-02-07T05:37:53.517088Z",
     "shell.execute_reply.started": "2022-02-07T05:34:11.208244Z"
    },
    "papermill": {
     "duration": 0.273268,
     "end_time": "2022-02-07T05:37:53.517290",
     "exception": false,
     "start_time": "2022-02-07T05:37:53.244022",
     "status": "completed"
    },
    "tags": []
   },
   "outputs": [
    {
     "data": {
      "image/png": "[encoded data removed]",
      "text/plain": [
       "<Figure size 432x288 with 1 Axes>"
      ]
     },
     "metadata": {
      "needs_background": "light"
     },
     "output_type": "display_data"
    }
   ],
   "source": [
    "plot_roc_curve(fpr,tpr)"
   ]
  },
  {
   "cell_type": "markdown",
   "id": "4c774e7e",
   "metadata": {
    "papermill": {
     "duration": 0.105645,
     "end_time": "2022-02-07T05:37:53.706314",
     "exception": false,
     "start_time": "2022-02-07T05:37:53.600669",
     "status": "completed"
    },
    "tags": []
   },
   "source": [
    "# For threshold value 0.6"
   ]
  },
  {
   "cell_type": "code",
   "execution_count": 78,
   "id": "72eb3329",
   "metadata": {
    "execution": {
     "iopub.execute_input": "2022-02-07T05:37:53.884370Z",
     "iopub.status.busy": "2022-02-07T05:37:53.883628Z",
     "iopub.status.idle": "2022-02-07T05:37:53.887741Z",
     "shell.execute_reply": "2022-02-07T05:37:53.888337Z",
     "shell.execute_reply.started": "2022-02-07T05:34:11.360626Z"
    },
    "papermill": {
     "duration": 0.093543,
     "end_time": "2022-02-07T05:37:53.888519",
     "exception": false,
     "start_time": "2022-02-07T05:37:53.794976",
     "status": "completed"
    },
    "tags": []
   },
   "outputs": [],
   "source": [
    "pre2,rec2,thr2=m.precision_recall_curve(y,y_per2)"
   ]
  },
  {
   "cell_type": "code",
   "execution_count": 79,
   "id": "2c638eef",
   "metadata": {
    "execution": {
     "iopub.execute_input": "2022-02-07T05:37:54.057935Z",
     "iopub.status.busy": "2022-02-07T05:37:54.057345Z",
     "iopub.status.idle": "2022-02-07T05:37:54.238028Z",
     "shell.execute_reply": "2022-02-07T05:37:54.238552Z",
     "shell.execute_reply.started": "2022-02-07T05:34:11.374205Z"
    },
    "papermill": {
     "duration": 0.2666,
     "end_time": "2022-02-07T05:37:54.238716",
     "exception": false,
     "start_time": "2022-02-07T05:37:53.972116",
     "status": "completed"
    },
    "tags": []
   },
   "outputs": [
    {
     "data": {
      "image/png": "[encoded data removed]",
      "text/plain": [
       "<Figure size 432x288 with 1 Axes>"
      ]
     },
     "metadata": {
      "needs_background": "light"
     },
     "output_type": "display_data"
    }
   ],
   "source": [
    "per(pre2,rec2,thr2)"
   ]
  },
  {
   "cell_type": "code",
   "execution_count": 80,
   "id": "8f3bd1e6",
   "metadata": {
    "execution": {
     "iopub.execute_input": "2022-02-07T05:37:54.411710Z",
     "iopub.status.busy": "2022-02-07T05:37:54.411144Z",
     "iopub.status.idle": "2022-02-07T05:37:54.415287Z",
     "shell.execute_reply": "2022-02-07T05:37:54.415794Z",
     "shell.execute_reply.started": "2022-02-07T05:34:11.526142Z"
    },
    "papermill": {
     "duration": 0.091693,
     "end_time": "2022-02-07T05:37:54.415956",
     "exception": false,
     "start_time": "2022-02-07T05:37:54.324263",
     "status": "completed"
    },
    "tags": []
   },
   "outputs": [],
   "source": [
    "fpr2,tpr2,thr2=m.roc_curve(y_per2,y)"
   ]
  },
  {
   "cell_type": "code",
   "execution_count": 81,
   "id": "80130fab",
   "metadata": {
    "execution": {
     "iopub.execute_input": "2022-02-07T05:37:54.585268Z",
     "iopub.status.busy": "2022-02-07T05:37:54.584628Z",
     "iopub.status.idle": "2022-02-07T05:37:54.762860Z",
     "shell.execute_reply": "2022-02-07T05:37:54.763333Z",
     "shell.execute_reply.started": "2022-02-07T05:34:11.533004Z"
    },
    "papermill": {
     "duration": 0.264642,
     "end_time": "2022-02-07T05:37:54.763507",
     "exception": false,
     "start_time": "2022-02-07T05:37:54.498865",
     "status": "completed"
    },
    "tags": []
   },
   "outputs": [
    {
     "data": {
      "image/png": "[encoded data removed]",
      "text/plain": [
       "<Figure size 432x288 with 1 Axes>"
      ]
     },
     "metadata": {
      "needs_background": "light"
     },
     "output_type": "display_data"
    }
   ],
   "source": [
    "plot_roc_curve(fpr,tpr)"
   ]
  },
  {
   "cell_type": "code",
   "execution_count": 82,
   "id": "0e84b301",
   "metadata": {
    "execution": {
     "iopub.execute_input": "2022-02-07T05:37:54.935551Z",
     "iopub.status.busy": "2022-02-07T05:37:54.934789Z",
     "iopub.status.idle": "2022-02-07T05:37:54.986925Z",
     "shell.execute_reply": "2022-02-07T05:37:54.987448Z",
     "shell.execute_reply.started": "2022-02-07T05:34:11.684359Z"
    },
    "papermill": {
     "duration": 0.139844,
     "end_time": "2022-02-07T05:37:54.987625",
     "exception": false,
     "start_time": "2022-02-07T05:37:54.847781",
     "status": "completed"
    },
    "tags": []
   },
   "outputs": [],
   "source": [
    "from sklearn.ensemble import RandomForestClassifier as rf\n",
    "from sklearn.linear_model import LogisticRegression as log\n",
    "from sklearn.model_selection import cross_val_score as cvs\n",
    "from sklearn import metrics as m"
   ]
  },
  {
   "cell_type": "code",
   "execution_count": 83,
   "id": "a847335a",
   "metadata": {
    "execution": {
     "iopub.execute_input": "2022-02-07T05:37:55.159663Z",
     "iopub.status.busy": "2022-02-07T05:37:55.159033Z",
     "iopub.status.idle": "2022-02-07T05:37:55.162452Z",
     "shell.execute_reply": "2022-02-07T05:37:55.162968Z",
     "shell.execute_reply.started": "2022-02-07T05:34:11.737717Z"
    },
    "papermill": {
     "duration": 0.090315,
     "end_time": "2022-02-07T05:37:55.163121",
     "exception": false,
     "start_time": "2022-02-07T05:37:55.072806",
     "status": "completed"
    },
    "tags": []
   },
   "outputs": [],
   "source": [
    "def crosss(model,x,y):\n",
    "    cros=cross_val_score(estimator=model,X=x,y=y,cv=10)\n",
    "    return cros"
   ]
  },
  {
   "cell_type": "markdown",
   "id": "fa736e0e",
   "metadata": {
    "papermill": {
     "duration": 0.083554,
     "end_time": "2022-02-07T05:37:55.330487",
     "exception": false,
     "start_time": "2022-02-07T05:37:55.246933",
     "status": "completed"
    },
    "tags": []
   },
   "source": [
    "# RandomForestClassifier and LogisticRegression"
   ]
  },
  {
   "cell_type": "code",
   "execution_count": 84,
   "id": "fc63769e",
   "metadata": {
    "execution": {
     "iopub.execute_input": "2022-02-07T05:37:55.501652Z",
     "iopub.status.busy": "2022-02-07T05:37:55.501000Z",
     "iopub.status.idle": "2022-02-07T05:37:55.504594Z",
     "shell.execute_reply": "2022-02-07T05:37:55.505081Z",
     "shell.execute_reply.started": "2022-02-07T05:34:11.743963Z"
    },
    "papermill": {
     "duration": 0.090693,
     "end_time": "2022-02-07T05:37:55.505272",
     "exception": false,
     "start_time": "2022-02-07T05:37:55.414579",
     "status": "completed"
    },
    "tags": []
   },
   "outputs": [],
   "source": [
    "log=log()\n",
    "rf=rf(n_estimators=500,max_depth=15)"
   ]
  },
  {
   "cell_type": "code",
   "execution_count": 85,
   "id": "346dc6f2",
   "metadata": {
    "execution": {
     "iopub.execute_input": "2022-02-07T05:37:55.682448Z",
     "iopub.status.busy": "2022-02-07T05:37:55.681815Z",
     "iopub.status.idle": "2022-02-07T05:37:56.641467Z",
     "shell.execute_reply": "2022-02-07T05:37:56.641871Z",
     "shell.execute_reply.started": "2022-02-07T05:34:11.755752Z"
    },
    "papermill": {
     "duration": 1.050039,
     "end_time": "2022-02-07T05:37:56.642051",
     "exception": false,
     "start_time": "2022-02-07T05:37:55.592012",
     "status": "completed"
    },
    "tags": []
   },
   "outputs": [
    {
     "name": "stdout",
     "output_type": "stream",
     "text": [
      "LogisticRegression()               precision    recall  f1-score   support\n",
      "\n",
      "           0       0.44      0.92      0.59        91\n",
      "           1       0.98      0.79      0.88       523\n",
      "\n",
      "    accuracy                           0.81       614\n",
      "   macro avg       0.71      0.86      0.74       614\n",
      "weighted avg       0.90      0.81      0.84       614\n",
      "\n",
      "[[ 84   7]\n",
      " [108 415]]\n",
      "RandomForestClassifier(max_depth=15, n_estimators=500)               precision    recall  f1-score   support\n",
      "\n",
      "           0       0.98      1.00      0.99       189\n",
      "           1       1.00      0.99      1.00       425\n",
      "\n",
      "    accuracy                           1.00       614\n",
      "   macro avg       0.99      1.00      0.99       614\n",
      "weighted avg       1.00      1.00      1.00       614\n",
      "\n",
      "[[189   0]\n",
      " [  3 422]]\n"
     ]
    }
   ],
   "source": [
    "model=[log,rf]\n",
    "for i in model:\n",
    "    i.fit(x_train,y)\n",
    "    y_pred=i.predict(x_train)\n",
    "    print(i,m.classification_report(y_pred,y))\n",
    "    print(m.confusion_matrix(y_pred,y))"
   ]
  },
  {
   "cell_type": "markdown",
   "id": "aeb312a5",
   "metadata": {
    "papermill": {
     "duration": 0.084821,
     "end_time": "2022-02-07T05:37:56.813476",
     "exception": false,
     "start_time": "2022-02-07T05:37:56.728655",
     "status": "completed"
    },
    "tags": []
   },
   "source": [
    "# Cross validation score of both model"
   ]
  },
  {
   "cell_type": "code",
   "execution_count": 86,
   "id": "f7e8f762",
   "metadata": {
    "execution": {
     "iopub.execute_input": "2022-02-07T05:37:56.989160Z",
     "iopub.status.busy": "2022-02-07T05:37:56.988560Z",
     "iopub.status.idle": "2022-02-07T05:38:05.604073Z",
     "shell.execute_reply": "2022-02-07T05:38:05.604834Z",
     "shell.execute_reply.started": "2022-02-07T05:34:12.990514Z"
    },
    "papermill": {
     "duration": 8.706283,
     "end_time": "2022-02-07T05:38:05.605059",
     "exception": false,
     "start_time": "2022-02-07T05:37:56.898776",
     "status": "completed"
    },
    "tags": []
   },
   "outputs": [
    {
     "name": "stdout",
     "output_type": "stream",
     "text": [
      "LogisticRegression() 0.8079587519830775\n",
      "RandomForestClassifier(max_depth=15, n_estimators=500) 0.7868059227921734\n"
     ]
    }
   ],
   "source": [
    "for i in model:\n",
    "    cros=crosss(i,x_train,y)\n",
    "    print(i,cros.mean())"
   ]
  },
  {
   "cell_type": "markdown",
   "id": "7a41005e",
   "metadata": {
    "papermill": {
     "duration": 0.085369,
     "end_time": "2022-02-07T05:38:05.787056",
     "exception": false,
     "start_time": "2022-02-07T05:38:05.701687",
     "status": "completed"
    },
    "tags": []
   },
   "source": [
    "# Predicting the loan_status"
   ]
  },
  {
   "cell_type": "code",
   "execution_count": 87,
   "id": "07d57a9b",
   "metadata": {
    "execution": {
     "iopub.execute_input": "2022-02-07T05:38:05.964872Z",
     "iopub.status.busy": "2022-02-07T05:38:05.964256Z",
     "iopub.status.idle": "2022-02-07T05:38:05.967583Z",
     "shell.execute_reply": "2022-02-07T05:38:05.968058Z",
     "shell.execute_reply.started": "2022-02-07T05:34:24.108668Z"
    },
    "papermill": {
     "duration": 0.094153,
     "end_time": "2022-02-07T05:38:05.968269",
     "exception": false,
     "start_time": "2022-02-07T05:38:05.874116",
     "status": "completed"
    },
    "tags": []
   },
   "outputs": [],
   "source": [
    "y_predict=log.predict(x_test)"
   ]
  },
  {
   "cell_type": "code",
   "execution_count": 88,
   "id": "27e1cc5c",
   "metadata": {
    "execution": {
     "iopub.execute_input": "2022-02-07T05:38:06.143528Z",
     "iopub.status.busy": "2022-02-07T05:38:06.142711Z",
     "iopub.status.idle": "2022-02-07T05:38:06.147718Z",
     "shell.execute_reply": "2022-02-07T05:38:06.148206Z",
     "shell.execute_reply.started": "2022-02-07T05:34:24.114653Z"
    },
    "papermill": {
     "duration": 0.094148,
     "end_time": "2022-02-07T05:38:06.148374",
     "exception": false,
     "start_time": "2022-02-07T05:38:06.054226",
     "status": "completed"
    },
    "tags": []
   },
   "outputs": [
    {
     "data": {
      "text/plain": [
       "array([1, 1, 1, 1, 1, 1, 1, 0, 1, 1, 1, 1, 1, 0, 1, 1, 1, 1, 1, 1, 1, 1,\n",
       "       1, 1, 1, 0, 1, 1, 1, 1, 1, 1, 1, 1, 1, 0, 1, 1, 1, 1, 1, 1, 1, 1,\n",
       "       1, 1, 1, 1, 1, 1, 1, 1, 1, 1, 1, 0, 1, 1, 0, 1, 1, 1, 1, 0, 1, 1,\n",
       "       0, 0, 1, 0, 1, 1, 1, 1, 1, 1, 1, 1, 1, 1, 0, 1, 0, 1, 0, 1, 1, 1,\n",
       "       1, 1, 1, 1, 1, 1, 0, 1, 1, 1, 1, 1, 1, 0, 1, 1, 1, 1, 0, 1, 1, 1,\n",
       "       1, 1, 1, 1, 1, 1, 1, 0, 0, 0, 1, 1, 1, 0, 0, 1, 0, 1, 1, 1, 1, 1,\n",
       "       1, 1, 1, 1, 1, 1, 1, 1, 0, 1, 0, 1, 1, 1, 1, 0, 1, 1, 1, 1, 1, 0,\n",
       "       1, 1, 1, 1, 1, 1, 1, 0, 1, 1, 1, 0, 0, 1, 0, 1, 1, 1, 1, 0, 0, 1,\n",
       "       1, 1, 1, 1, 1, 1, 1, 1, 1, 1, 1, 1, 1, 1, 1, 1, 0, 0, 1, 1, 0, 1,\n",
       "       0, 1, 1, 1, 1, 1, 1, 1, 1, 1, 1, 0, 1, 0, 1, 1, 1, 1, 1, 1, 1, 1,\n",
       "       1, 1, 1, 1, 0, 1, 1, 1, 1, 0, 1, 1, 1, 1, 1, 0, 0, 1, 1, 1, 1, 0,\n",
       "       1, 0, 1, 0, 1, 1, 1, 1, 0, 1, 1, 1, 1, 0, 1, 1, 1, 1, 1, 1, 1, 1,\n",
       "       1, 1, 0, 0, 0, 1, 1, 1, 1, 0, 0, 1, 1, 1, 0, 1, 1, 1, 1, 1, 1, 1,\n",
       "       1, 1, 1, 1, 1, 1, 1, 0, 1, 1, 1, 1, 1, 1, 1, 0, 1, 1, 1, 1, 1, 1,\n",
       "       1, 1, 1, 0, 1, 1, 1, 1, 1, 0, 1, 1, 1, 1, 1, 1, 1, 0, 1, 1, 1, 1,\n",
       "       1, 1, 1, 1, 1, 1, 1, 1, 1, 0, 1, 1, 1, 1, 1, 1, 0, 1, 1, 1, 1, 0,\n",
       "       1, 1, 0, 1, 1, 1, 1, 1, 1, 1, 1, 1, 1, 1, 1])"
      ]
     },
     "execution_count": 88,
     "metadata": {},
     "output_type": "execute_result"
    }
   ],
   "source": [
    "y_predict"
   ]
  },
  {
   "cell_type": "code",
   "execution_count": 89,
   "id": "d2f43c5c",
   "metadata": {
    "execution": {
     "iopub.execute_input": "2022-02-07T05:38:06.322773Z",
     "iopub.status.busy": "2022-02-07T05:38:06.322179Z",
     "iopub.status.idle": "2022-02-07T05:38:06.326888Z",
     "shell.execute_reply": "2022-02-07T05:38:06.327450Z",
     "shell.execute_reply.started": "2022-02-07T05:34:24.134457Z"
    },
    "papermill": {
     "duration": 0.093384,
     "end_time": "2022-02-07T05:38:06.327617",
     "exception": false,
     "start_time": "2022-02-07T05:38:06.234233",
     "status": "completed"
    },
    "tags": []
   },
   "outputs": [],
   "source": [
    "prediction = pd.DataFrame({'loan_status':y_predict})\n",
    "final_submission = pd.concat((test.Loan_ID,prediction),axis=1)"
   ]
  },
  {
   "cell_type": "code",
   "execution_count": 90,
   "id": "13363728",
   "metadata": {
    "execution": {
     "iopub.execute_input": "2022-02-07T05:38:06.503252Z",
     "iopub.status.busy": "2022-02-07T05:38:06.502637Z",
     "iopub.status.idle": "2022-02-07T05:38:06.512227Z",
     "shell.execute_reply": "2022-02-07T05:38:06.512691Z",
     "shell.execute_reply.started": "2022-02-07T05:34:24.146149Z"
    },
    "papermill": {
     "duration": 0.098998,
     "end_time": "2022-02-07T05:38:06.512871",
     "exception": false,
     "start_time": "2022-02-07T05:38:06.413873",
     "status": "completed"
    },
    "tags": []
   },
   "outputs": [
    {
     "data": {
      "text/html": [
       "<div>\n",
       "<style scoped>\n",
       "    .dataframe tbody tr th:only-of-type {\n",
       "        vertical-align: middle;\n",
       "    }\n",
       "\n",
       "    .dataframe tbody tr th {\n",
       "        vertical-align: top;\n",
       "    }\n",
       "\n",
       "    .dataframe thead th {\n",
       "        text-align: right;\n",
       "    }\n",
       "</style>\n",
       "<table border=\"1\" class=\"dataframe\">\n",
       "  <thead>\n",
       "    <tr style=\"text-align: right;\">\n",
       "      <th></th>\n",
       "      <th>Loan_ID</th>\n",
       "      <th>loan_status</th>\n",
       "    </tr>\n",
       "  </thead>\n",
       "  <tbody>\n",
       "    <tr>\n",
       "      <th>0</th>\n",
       "      <td>LP001015</td>\n",
       "      <td>1</td>\n",
       "    </tr>\n",
       "    <tr>\n",
       "      <th>1</th>\n",
       "      <td>LP001022</td>\n",
       "      <td>1</td>\n",
       "    </tr>\n",
       "    <tr>\n",
       "      <th>2</th>\n",
       "      <td>LP001031</td>\n",
       "      <td>1</td>\n",
       "    </tr>\n",
       "    <tr>\n",
       "      <th>3</th>\n",
       "      <td>LP001035</td>\n",
       "      <td>1</td>\n",
       "    </tr>\n",
       "    <tr>\n",
       "      <th>4</th>\n",
       "      <td>LP001051</td>\n",
       "      <td>1</td>\n",
       "    </tr>\n",
       "    <tr>\n",
       "      <th>...</th>\n",
       "      <td>...</td>\n",
       "      <td>...</td>\n",
       "    </tr>\n",
       "    <tr>\n",
       "      <th>362</th>\n",
       "      <td>LP002971</td>\n",
       "      <td>1</td>\n",
       "    </tr>\n",
       "    <tr>\n",
       "      <th>363</th>\n",
       "      <td>LP002975</td>\n",
       "      <td>1</td>\n",
       "    </tr>\n",
       "    <tr>\n",
       "      <th>364</th>\n",
       "      <td>LP002980</td>\n",
       "      <td>1</td>\n",
       "    </tr>\n",
       "    <tr>\n",
       "      <th>365</th>\n",
       "      <td>LP002986</td>\n",
       "      <td>1</td>\n",
       "    </tr>\n",
       "    <tr>\n",
       "      <th>366</th>\n",
       "      <td>LP002989</td>\n",
       "      <td>1</td>\n",
       "    </tr>\n",
       "  </tbody>\n",
       "</table>\n",
       "<p>367 rows × 2 columns</p>\n",
       "</div>"
      ],
      "text/plain": [
       "      Loan_ID  loan_status\n",
       "0    LP001015            1\n",
       "1    LP001022            1\n",
       "2    LP001031            1\n",
       "3    LP001035            1\n",
       "4    LP001051            1\n",
       "..        ...          ...\n",
       "362  LP002971            1\n",
       "363  LP002975            1\n",
       "364  LP002980            1\n",
       "365  LP002986            1\n",
       "366  LP002989            1\n",
       "\n",
       "[367 rows x 2 columns]"
      ]
     },
     "execution_count": 90,
     "metadata": {},
     "output_type": "execute_result"
    }
   ],
   "source": [
    "final_submission"
   ]
  },
  {
   "cell_type": "code",
   "execution_count": null,
   "id": "0f953bcc",
   "metadata": {
    "papermill": {
     "duration": 0.086823,
     "end_time": "2022-02-07T05:38:06.687970",
     "exception": false,
     "start_time": "2022-02-07T05:38:06.601147",
     "status": "completed"
    },
    "tags": []
   },
   "outputs": [],
   "source": []
  }
 ],
 "metadata": {
  "kernelspec": {
   "display_name": "Python 3",
   "language": "python",
   "name": "python3"
  },
  "language_info": {
   "codemirror_mode": {
    "name": "ipython",
    "version": 3
   },
   "file_extension": ".py",
   "mimetype": "text/x-python",
   "name": "python",
   "nbconvert_exporter": "python",
   "pygments_lexer": "ipython3",
   "version": "3.7.12"
  },
  "papermill": {
   "default_parameters": {},
   "duration": 46.635861,
   "end_time": "2022-02-07T05:38:07.584842",
   "environment_variables": {},
   "exception": null,
   "input_path": "__notebook__.ipynb",
   "output_path": "__notebook__.ipynb",
   "parameters": {},
   "start_time": "2022-02-07T05:37:20.948981",
   "version": "2.3.3"
  }
 },
 "nbformat": 4,
 "nbformat_minor": 5
}
